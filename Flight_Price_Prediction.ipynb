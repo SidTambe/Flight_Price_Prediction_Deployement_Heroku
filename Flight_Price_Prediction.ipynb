{
  "nbformat": 4,
  "nbformat_minor": 0,
  "metadata": {
    "colab": {
      "provenance": []
    },
    "kernelspec": {
      "name": "python3",
      "display_name": "Python 3"
    },
    "language_info": {
      "name": "python"
    }
  },
  "cells": [
    {
      "cell_type": "code",
      "source": [
        "!pip install chart_studio"
      ],
      "metadata": {
        "colab": {
          "base_uri": "https://localhost:8080/"
        },
        "id": "h-_Cel_W8lrp",
        "outputId": "d24428be-4d28-4d59-f208-efdc6154d179"
      },
      "execution_count": 2,
      "outputs": [
        {
          "output_type": "stream",
          "name": "stdout",
          "text": [
            "Looking in indexes: https://pypi.org/simple, https://us-python.pkg.dev/colab-wheels/public/simple/\n",
            "Collecting chart_studio\n",
            "  Downloading chart_studio-1.1.0-py3-none-any.whl (64 kB)\n",
            "\u001b[K     |████████████████████████████████| 64 kB 2.3 MB/s \n",
            "\u001b[?25hRequirement already satisfied: plotly in /usr/local/lib/python3.7/dist-packages (from chart_studio) (5.5.0)\n",
            "Requirement already satisfied: requests in /usr/local/lib/python3.7/dist-packages (from chart_studio) (2.23.0)\n",
            "Collecting retrying>=1.3.3\n",
            "  Downloading retrying-1.3.3.tar.gz (10 kB)\n",
            "Requirement already satisfied: six in /usr/local/lib/python3.7/dist-packages (from chart_studio) (1.15.0)\n",
            "Requirement already satisfied: tenacity>=6.2.0 in /usr/local/lib/python3.7/dist-packages (from plotly->chart_studio) (8.0.1)\n",
            "Requirement already satisfied: chardet<4,>=3.0.2 in /usr/local/lib/python3.7/dist-packages (from requests->chart_studio) (3.0.4)\n",
            "Requirement already satisfied: certifi>=2017.4.17 in /usr/local/lib/python3.7/dist-packages (from requests->chart_studio) (2022.6.15)\n",
            "Requirement already satisfied: urllib3!=1.25.0,!=1.25.1,<1.26,>=1.21.1 in /usr/local/lib/python3.7/dist-packages (from requests->chart_studio) (1.24.3)\n",
            "Requirement already satisfied: idna<3,>=2.5 in /usr/local/lib/python3.7/dist-packages (from requests->chart_studio) (2.10)\n",
            "Building wheels for collected packages: retrying\n",
            "  Building wheel for retrying (setup.py) ... \u001b[?25l\u001b[?25hdone\n",
            "  Created wheel for retrying: filename=retrying-1.3.3-py3-none-any.whl size=11447 sha256=2a2b040ba7fa3cb97b2656b6452a0e2043ecac5dcc7057863399d79bcde19b9c\n",
            "  Stored in directory: /root/.cache/pip/wheels/f9/8d/8d/f6af3f7f9eea3553bc2fe6d53e4b287dad18b06a861ac56ddf\n",
            "Successfully built retrying\n",
            "Installing collected packages: retrying, chart-studio\n",
            "Successfully installed chart-studio-1.1.0 retrying-1.3.3\n"
          ]
        }
      ]
    },
    {
      "cell_type": "code",
      "execution_count": 43,
      "metadata": {
        "id": "Rvy7kBZt7xDP"
      },
      "outputs": [],
      "source": [
        "import numpy as np\n",
        "import pandas as pd\n",
        "import matplotlib.pyplot as plt\n",
        "from chart_studio.plotly import plot,iplot\n",
        "import cufflinks as cf\n",
        "import seaborn as sns\n",
        "\n",
        "\n",
        "%matplotlib inline"
      ]
    },
    {
      "cell_type": "code",
      "source": [
        "df=pd.read_excel(\"/content/Data_Train.xlsx\")"
      ],
      "metadata": {
        "id": "wvmWqukk8RmV"
      },
      "execution_count": 4,
      "outputs": []
    },
    {
      "cell_type": "code",
      "source": [
        "df.head()"
      ],
      "metadata": {
        "colab": {
          "base_uri": "https://localhost:8080/",
          "height": 652
        },
        "id": "iMNqTGuW9a38",
        "outputId": "6c1e2afe-c7e6-4c1c-9c53-25fadadbfadd"
      },
      "execution_count": 5,
      "outputs": [
        {
          "output_type": "execute_result",
          "data": {
            "text/plain": [
              "       Airline Date_of_Journey    Source Destination                  Route  \\\n",
              "0       IndiGo      24/03/2019  Banglore   New Delhi              BLR → DEL   \n",
              "1    Air India       1/05/2019   Kolkata    Banglore  CCU → IXR → BBI → BLR   \n",
              "2  Jet Airways       9/06/2019     Delhi      Cochin  DEL → LKO → BOM → COK   \n",
              "3       IndiGo      12/05/2019   Kolkata    Banglore        CCU → NAG → BLR   \n",
              "4       IndiGo      01/03/2019  Banglore   New Delhi        BLR → NAG → DEL   \n",
              "\n",
              "  Dep_Time  Arrival_Time Duration Total_Stops Additional_Info  Price  \n",
              "0    22:20  01:10 22 Mar   2h 50m    non-stop         No info   3897  \n",
              "1    05:50         13:15   7h 25m     2 stops         No info   7662  \n",
              "2    09:25  04:25 10 Jun      19h     2 stops         No info  13882  \n",
              "3    18:05         23:30   5h 25m      1 stop         No info   6218  \n",
              "4    16:50         21:35   4h 45m      1 stop         No info  13302  "
            ],
            "text/html": [
              "\n",
              "  <div id=\"df-f7eb8589-e3ca-4ee2-a081-4f6e45c673f2\">\n",
              "    <div class=\"colab-df-container\">\n",
              "      <div>\n",
              "<style scoped>\n",
              "    .dataframe tbody tr th:only-of-type {\n",
              "        vertical-align: middle;\n",
              "    }\n",
              "\n",
              "    .dataframe tbody tr th {\n",
              "        vertical-align: top;\n",
              "    }\n",
              "\n",
              "    .dataframe thead th {\n",
              "        text-align: right;\n",
              "    }\n",
              "</style>\n",
              "<table border=\"1\" class=\"dataframe\">\n",
              "  <thead>\n",
              "    <tr style=\"text-align: right;\">\n",
              "      <th></th>\n",
              "      <th>Airline</th>\n",
              "      <th>Date_of_Journey</th>\n",
              "      <th>Source</th>\n",
              "      <th>Destination</th>\n",
              "      <th>Route</th>\n",
              "      <th>Dep_Time</th>\n",
              "      <th>Arrival_Time</th>\n",
              "      <th>Duration</th>\n",
              "      <th>Total_Stops</th>\n",
              "      <th>Additional_Info</th>\n",
              "      <th>Price</th>\n",
              "    </tr>\n",
              "  </thead>\n",
              "  <tbody>\n",
              "    <tr>\n",
              "      <th>0</th>\n",
              "      <td>IndiGo</td>\n",
              "      <td>24/03/2019</td>\n",
              "      <td>Banglore</td>\n",
              "      <td>New Delhi</td>\n",
              "      <td>BLR → DEL</td>\n",
              "      <td>22:20</td>\n",
              "      <td>01:10 22 Mar</td>\n",
              "      <td>2h 50m</td>\n",
              "      <td>non-stop</td>\n",
              "      <td>No info</td>\n",
              "      <td>3897</td>\n",
              "    </tr>\n",
              "    <tr>\n",
              "      <th>1</th>\n",
              "      <td>Air India</td>\n",
              "      <td>1/05/2019</td>\n",
              "      <td>Kolkata</td>\n",
              "      <td>Banglore</td>\n",
              "      <td>CCU → IXR → BBI → BLR</td>\n",
              "      <td>05:50</td>\n",
              "      <td>13:15</td>\n",
              "      <td>7h 25m</td>\n",
              "      <td>2 stops</td>\n",
              "      <td>No info</td>\n",
              "      <td>7662</td>\n",
              "    </tr>\n",
              "    <tr>\n",
              "      <th>2</th>\n",
              "      <td>Jet Airways</td>\n",
              "      <td>9/06/2019</td>\n",
              "      <td>Delhi</td>\n",
              "      <td>Cochin</td>\n",
              "      <td>DEL → LKO → BOM → COK</td>\n",
              "      <td>09:25</td>\n",
              "      <td>04:25 10 Jun</td>\n",
              "      <td>19h</td>\n",
              "      <td>2 stops</td>\n",
              "      <td>No info</td>\n",
              "      <td>13882</td>\n",
              "    </tr>\n",
              "    <tr>\n",
              "      <th>3</th>\n",
              "      <td>IndiGo</td>\n",
              "      <td>12/05/2019</td>\n",
              "      <td>Kolkata</td>\n",
              "      <td>Banglore</td>\n",
              "      <td>CCU → NAG → BLR</td>\n",
              "      <td>18:05</td>\n",
              "      <td>23:30</td>\n",
              "      <td>5h 25m</td>\n",
              "      <td>1 stop</td>\n",
              "      <td>No info</td>\n",
              "      <td>6218</td>\n",
              "    </tr>\n",
              "    <tr>\n",
              "      <th>4</th>\n",
              "      <td>IndiGo</td>\n",
              "      <td>01/03/2019</td>\n",
              "      <td>Banglore</td>\n",
              "      <td>New Delhi</td>\n",
              "      <td>BLR → NAG → DEL</td>\n",
              "      <td>16:50</td>\n",
              "      <td>21:35</td>\n",
              "      <td>4h 45m</td>\n",
              "      <td>1 stop</td>\n",
              "      <td>No info</td>\n",
              "      <td>13302</td>\n",
              "    </tr>\n",
              "  </tbody>\n",
              "</table>\n",
              "</div>\n",
              "      <button class=\"colab-df-convert\" onclick=\"convertToInteractive('df-f7eb8589-e3ca-4ee2-a081-4f6e45c673f2')\"\n",
              "              title=\"Convert this dataframe to an interactive table.\"\n",
              "              style=\"display:none;\">\n",
              "        \n",
              "  <svg xmlns=\"http://www.w3.org/2000/svg\" height=\"24px\"viewBox=\"0 0 24 24\"\n",
              "       width=\"24px\">\n",
              "    <path d=\"M0 0h24v24H0V0z\" fill=\"none\"/>\n",
              "    <path d=\"M18.56 5.44l.94 2.06.94-2.06 2.06-.94-2.06-.94-.94-2.06-.94 2.06-2.06.94zm-11 1L8.5 8.5l.94-2.06 2.06-.94-2.06-.94L8.5 2.5l-.94 2.06-2.06.94zm10 10l.94 2.06.94-2.06 2.06-.94-2.06-.94-.94-2.06-.94 2.06-2.06.94z\"/><path d=\"M17.41 7.96l-1.37-1.37c-.4-.4-.92-.59-1.43-.59-.52 0-1.04.2-1.43.59L10.3 9.45l-7.72 7.72c-.78.78-.78 2.05 0 2.83L4 21.41c.39.39.9.59 1.41.59.51 0 1.02-.2 1.41-.59l7.78-7.78 2.81-2.81c.8-.78.8-2.07 0-2.86zM5.41 20L4 18.59l7.72-7.72 1.47 1.35L5.41 20z\"/>\n",
              "  </svg>\n",
              "      </button>\n",
              "      \n",
              "  <style>\n",
              "    .colab-df-container {\n",
              "      display:flex;\n",
              "      flex-wrap:wrap;\n",
              "      gap: 12px;\n",
              "    }\n",
              "\n",
              "    .colab-df-convert {\n",
              "      background-color: #E8F0FE;\n",
              "      border: none;\n",
              "      border-radius: 50%;\n",
              "      cursor: pointer;\n",
              "      display: none;\n",
              "      fill: #1967D2;\n",
              "      height: 32px;\n",
              "      padding: 0 0 0 0;\n",
              "      width: 32px;\n",
              "    }\n",
              "\n",
              "    .colab-df-convert:hover {\n",
              "      background-color: #E2EBFA;\n",
              "      box-shadow: 0px 1px 2px rgba(60, 64, 67, 0.3), 0px 1px 3px 1px rgba(60, 64, 67, 0.15);\n",
              "      fill: #174EA6;\n",
              "    }\n",
              "\n",
              "    [theme=dark] .colab-df-convert {\n",
              "      background-color: #3B4455;\n",
              "      fill: #D2E3FC;\n",
              "    }\n",
              "\n",
              "    [theme=dark] .colab-df-convert:hover {\n",
              "      background-color: #434B5C;\n",
              "      box-shadow: 0px 1px 3px 1px rgba(0, 0, 0, 0.15);\n",
              "      filter: drop-shadow(0px 1px 2px rgba(0, 0, 0, 0.3));\n",
              "      fill: #FFFFFF;\n",
              "    }\n",
              "  </style>\n",
              "\n",
              "      <script>\n",
              "        const buttonEl =\n",
              "          document.querySelector('#df-f7eb8589-e3ca-4ee2-a081-4f6e45c673f2 button.colab-df-convert');\n",
              "        buttonEl.style.display =\n",
              "          google.colab.kernel.accessAllowed ? 'block' : 'none';\n",
              "\n",
              "        async function convertToInteractive(key) {\n",
              "          const element = document.querySelector('#df-f7eb8589-e3ca-4ee2-a081-4f6e45c673f2');\n",
              "          const dataTable =\n",
              "            await google.colab.kernel.invokeFunction('convertToInteractive',\n",
              "                                                     [key], {});\n",
              "          if (!dataTable) return;\n",
              "\n",
              "          const docLinkHtml = 'Like what you see? Visit the ' +\n",
              "            '<a target=\"_blank\" href=https://colab.research.google.com/notebooks/data_table.ipynb>data table notebook</a>'\n",
              "            + ' to learn more about interactive tables.';\n",
              "          element.innerHTML = '';\n",
              "          dataTable['output_type'] = 'display_data';\n",
              "          await google.colab.output.renderOutput(dataTable, element);\n",
              "          const docLink = document.createElement('div');\n",
              "          docLink.innerHTML = docLinkHtml;\n",
              "          element.appendChild(docLink);\n",
              "        }\n",
              "      </script>\n",
              "    </div>\n",
              "  </div>\n",
              "  "
            ]
          },
          "metadata": {},
          "execution_count": 5
        }
      ]
    },
    {
      "cell_type": "code",
      "source": [
        "!pip install pandas-profiling"
      ],
      "metadata": {
        "colab": {
          "base_uri": "https://localhost:8080/"
        },
        "id": "db8b1QKE9dOc",
        "outputId": "6dddfbcb-a832-4885-b877-d9f6db178269"
      },
      "execution_count": 6,
      "outputs": [
        {
          "output_type": "stream",
          "name": "stdout",
          "text": [
            "Looking in indexes: https://pypi.org/simple, https://us-python.pkg.dev/colab-wheels/public/simple/\n",
            "Requirement already satisfied: pandas-profiling in /usr/local/lib/python3.7/dist-packages (1.4.1)\n",
            "Requirement already satisfied: jinja2>=2.8 in /usr/local/lib/python3.7/dist-packages (from pandas-profiling) (2.11.3)\n",
            "Requirement already satisfied: matplotlib>=1.4 in /usr/local/lib/python3.7/dist-packages (from pandas-profiling) (3.2.2)\n",
            "Requirement already satisfied: six>=1.9 in /usr/local/lib/python3.7/dist-packages (from pandas-profiling) (1.15.0)\n",
            "Requirement already satisfied: pandas>=0.19 in /usr/local/lib/python3.7/dist-packages (from pandas-profiling) (1.3.5)\n",
            "Requirement already satisfied: MarkupSafe>=0.23 in /usr/local/lib/python3.7/dist-packages (from jinja2>=2.8->pandas-profiling) (2.0.1)\n",
            "Requirement already satisfied: cycler>=0.10 in /usr/local/lib/python3.7/dist-packages (from matplotlib>=1.4->pandas-profiling) (0.11.0)\n",
            "Requirement already satisfied: pyparsing!=2.0.4,!=2.1.2,!=2.1.6,>=2.0.1 in /usr/local/lib/python3.7/dist-packages (from matplotlib>=1.4->pandas-profiling) (3.0.9)\n",
            "Requirement already satisfied: numpy>=1.11 in /usr/local/lib/python3.7/dist-packages (from matplotlib>=1.4->pandas-profiling) (1.21.6)\n",
            "Requirement already satisfied: kiwisolver>=1.0.1 in /usr/local/lib/python3.7/dist-packages (from matplotlib>=1.4->pandas-profiling) (1.4.4)\n",
            "Requirement already satisfied: python-dateutil>=2.1 in /usr/local/lib/python3.7/dist-packages (from matplotlib>=1.4->pandas-profiling) (2.8.2)\n",
            "Requirement already satisfied: typing-extensions in /usr/local/lib/python3.7/dist-packages (from kiwisolver>=1.0.1->matplotlib>=1.4->pandas-profiling) (4.1.1)\n",
            "Requirement already satisfied: pytz>=2017.3 in /usr/local/lib/python3.7/dist-packages (from pandas>=0.19->pandas-profiling) (2022.2.1)\n"
          ]
        }
      ]
    },
    {
      "cell_type": "code",
      "source": [
        "import pandas_profiling as pf"
      ],
      "metadata": {
        "id": "-LYtZjov9wkW"
      },
      "execution_count": 7,
      "outputs": []
    },
    {
      "cell_type": "code",
      "source": [
        "df.shape"
      ],
      "metadata": {
        "colab": {
          "base_uri": "https://localhost:8080/"
        },
        "id": "fLFgJw4N92-h",
        "outputId": "efd4dc19-0cb5-4e04-a5cd-2a97aae49133"
      },
      "execution_count": 11,
      "outputs": [
        {
          "output_type": "execute_result",
          "data": {
            "text/plain": [
              "(10683, 11)"
            ]
          },
          "metadata": {},
          "execution_count": 11
        }
      ]
    },
    {
      "cell_type": "code",
      "source": [
        "df.isnull().sum()"
      ],
      "metadata": {
        "colab": {
          "base_uri": "https://localhost:8080/"
        },
        "id": "5Sd0Rksp96KL",
        "outputId": "109236dc-74ac-405a-830a-0f7be85c1441"
      },
      "execution_count": 12,
      "outputs": [
        {
          "output_type": "execute_result",
          "data": {
            "text/plain": [
              "Airline            0\n",
              "Date_of_Journey    0\n",
              "Source             0\n",
              "Destination        0\n",
              "Route              1\n",
              "Dep_Time           0\n",
              "Arrival_Time       0\n",
              "Duration           0\n",
              "Total_Stops        1\n",
              "Additional_Info    0\n",
              "Price              0\n",
              "dtype: int64"
            ]
          },
          "metadata": {},
          "execution_count": 12
        }
      ]
    },
    {
      "cell_type": "code",
      "source": [
        "df=df.dropna(how='any')"
      ],
      "metadata": {
        "id": "xPT8vixE-hT0"
      },
      "execution_count": 14,
      "outputs": []
    },
    {
      "cell_type": "code",
      "source": [
        "df.shape"
      ],
      "metadata": {
        "colab": {
          "base_uri": "https://localhost:8080/"
        },
        "id": "xffT9SLH-pC3",
        "outputId": "7670d977-0fc4-4970-aeb9-9a71e2af1d5e"
      },
      "execution_count": 15,
      "outputs": [
        {
          "output_type": "execute_result",
          "data": {
            "text/plain": [
              "(10682, 11)"
            ]
          },
          "metadata": {},
          "execution_count": 15
        }
      ]
    },
    {
      "cell_type": "code",
      "source": [
        "df.dtypes"
      ],
      "metadata": {
        "colab": {
          "base_uri": "https://localhost:8080/"
        },
        "id": "Snr7ptO--xfM",
        "outputId": "a7fe4b36-dfb2-480c-f5c7-716e64219b74"
      },
      "execution_count": 17,
      "outputs": [
        {
          "output_type": "execute_result",
          "data": {
            "text/plain": [
              "Airline            object\n",
              "Date_of_Journey    object\n",
              "Source             object\n",
              "Destination        object\n",
              "Route              object\n",
              "Dep_Time           object\n",
              "Arrival_Time       object\n",
              "Duration           object\n",
              "Total_Stops        object\n",
              "Additional_Info    object\n",
              "Price               int64\n",
              "dtype: object"
            ]
          },
          "metadata": {},
          "execution_count": 17
        }
      ]
    },
    {
      "cell_type": "markdown",
      "source": [
        "# Feature Engineering"
      ],
      "metadata": {
        "id": "0HAHJC5-_z9d"
      }
    },
    {
      "cell_type": "markdown",
      "source": [
        "Let's convert Date_of_Journey to its appropriate format as datetime with regards to day and month"
      ],
      "metadata": {
        "id": "GZ8vMPi4_1eF"
      }
    },
    {
      "cell_type": "code",
      "source": [
        "df['Date_of_Journey']=pd.to_datetime(df['Date_of_Journey'])\n",
        "df['Day_of_Journey']=(df['Date_of_Journey']).dt.day\n",
        "df['Month_of_Journey']=(df['Date_of_Journey']).dt.month"
      ],
      "metadata": {
        "id": "VVmavvIL_PnC"
      },
      "execution_count": 20,
      "outputs": []
    },
    {
      "cell_type": "code",
      "source": [
        "df.head(3)"
      ],
      "metadata": {
        "colab": {
          "base_uri": "https://localhost:8080/",
          "height": 450
        },
        "id": "t06OdnD9AkyU",
        "outputId": "ddfd7374-a90a-4fbe-c7f1-2b8eb48c6f5a"
      },
      "execution_count": 21,
      "outputs": [
        {
          "output_type": "execute_result",
          "data": {
            "text/plain": [
              "       Airline Date_of_Journey    Source Destination                  Route  \\\n",
              "0       IndiGo      2019-03-24  Banglore   New Delhi              BLR → DEL   \n",
              "1    Air India      2019-01-05   Kolkata    Banglore  CCU → IXR → BBI → BLR   \n",
              "2  Jet Airways      2019-09-06     Delhi      Cochin  DEL → LKO → BOM → COK   \n",
              "\n",
              "  Dep_Time  Arrival_Time Duration Total_Stops Additional_Info  Price  \\\n",
              "0    22:20  01:10 22 Mar   2h 50m    non-stop         No info   3897   \n",
              "1    05:50         13:15   7h 25m     2 stops         No info   7662   \n",
              "2    09:25  04:25 10 Jun      19h     2 stops         No info  13882   \n",
              "\n",
              "   Day_of_Journey  Month_of_Journey  \n",
              "0              24                 3  \n",
              "1               5                 1  \n",
              "2               6                 9  "
            ],
            "text/html": [
              "\n",
              "  <div id=\"df-78716c36-6f7f-41a8-b6aa-8ed7253d2a1a\">\n",
              "    <div class=\"colab-df-container\">\n",
              "      <div>\n",
              "<style scoped>\n",
              "    .dataframe tbody tr th:only-of-type {\n",
              "        vertical-align: middle;\n",
              "    }\n",
              "\n",
              "    .dataframe tbody tr th {\n",
              "        vertical-align: top;\n",
              "    }\n",
              "\n",
              "    .dataframe thead th {\n",
              "        text-align: right;\n",
              "    }\n",
              "</style>\n",
              "<table border=\"1\" class=\"dataframe\">\n",
              "  <thead>\n",
              "    <tr style=\"text-align: right;\">\n",
              "      <th></th>\n",
              "      <th>Airline</th>\n",
              "      <th>Date_of_Journey</th>\n",
              "      <th>Source</th>\n",
              "      <th>Destination</th>\n",
              "      <th>Route</th>\n",
              "      <th>Dep_Time</th>\n",
              "      <th>Arrival_Time</th>\n",
              "      <th>Duration</th>\n",
              "      <th>Total_Stops</th>\n",
              "      <th>Additional_Info</th>\n",
              "      <th>Price</th>\n",
              "      <th>Day_of_Journey</th>\n",
              "      <th>Month_of_Journey</th>\n",
              "    </tr>\n",
              "  </thead>\n",
              "  <tbody>\n",
              "    <tr>\n",
              "      <th>0</th>\n",
              "      <td>IndiGo</td>\n",
              "      <td>2019-03-24</td>\n",
              "      <td>Banglore</td>\n",
              "      <td>New Delhi</td>\n",
              "      <td>BLR → DEL</td>\n",
              "      <td>22:20</td>\n",
              "      <td>01:10 22 Mar</td>\n",
              "      <td>2h 50m</td>\n",
              "      <td>non-stop</td>\n",
              "      <td>No info</td>\n",
              "      <td>3897</td>\n",
              "      <td>24</td>\n",
              "      <td>3</td>\n",
              "    </tr>\n",
              "    <tr>\n",
              "      <th>1</th>\n",
              "      <td>Air India</td>\n",
              "      <td>2019-01-05</td>\n",
              "      <td>Kolkata</td>\n",
              "      <td>Banglore</td>\n",
              "      <td>CCU → IXR → BBI → BLR</td>\n",
              "      <td>05:50</td>\n",
              "      <td>13:15</td>\n",
              "      <td>7h 25m</td>\n",
              "      <td>2 stops</td>\n",
              "      <td>No info</td>\n",
              "      <td>7662</td>\n",
              "      <td>5</td>\n",
              "      <td>1</td>\n",
              "    </tr>\n",
              "    <tr>\n",
              "      <th>2</th>\n",
              "      <td>Jet Airways</td>\n",
              "      <td>2019-09-06</td>\n",
              "      <td>Delhi</td>\n",
              "      <td>Cochin</td>\n",
              "      <td>DEL → LKO → BOM → COK</td>\n",
              "      <td>09:25</td>\n",
              "      <td>04:25 10 Jun</td>\n",
              "      <td>19h</td>\n",
              "      <td>2 stops</td>\n",
              "      <td>No info</td>\n",
              "      <td>13882</td>\n",
              "      <td>6</td>\n",
              "      <td>9</td>\n",
              "    </tr>\n",
              "  </tbody>\n",
              "</table>\n",
              "</div>\n",
              "      <button class=\"colab-df-convert\" onclick=\"convertToInteractive('df-78716c36-6f7f-41a8-b6aa-8ed7253d2a1a')\"\n",
              "              title=\"Convert this dataframe to an interactive table.\"\n",
              "              style=\"display:none;\">\n",
              "        \n",
              "  <svg xmlns=\"http://www.w3.org/2000/svg\" height=\"24px\"viewBox=\"0 0 24 24\"\n",
              "       width=\"24px\">\n",
              "    <path d=\"M0 0h24v24H0V0z\" fill=\"none\"/>\n",
              "    <path d=\"M18.56 5.44l.94 2.06.94-2.06 2.06-.94-2.06-.94-.94-2.06-.94 2.06-2.06.94zm-11 1L8.5 8.5l.94-2.06 2.06-.94-2.06-.94L8.5 2.5l-.94 2.06-2.06.94zm10 10l.94 2.06.94-2.06 2.06-.94-2.06-.94-.94-2.06-.94 2.06-2.06.94z\"/><path d=\"M17.41 7.96l-1.37-1.37c-.4-.4-.92-.59-1.43-.59-.52 0-1.04.2-1.43.59L10.3 9.45l-7.72 7.72c-.78.78-.78 2.05 0 2.83L4 21.41c.39.39.9.59 1.41.59.51 0 1.02-.2 1.41-.59l7.78-7.78 2.81-2.81c.8-.78.8-2.07 0-2.86zM5.41 20L4 18.59l7.72-7.72 1.47 1.35L5.41 20z\"/>\n",
              "  </svg>\n",
              "      </button>\n",
              "      \n",
              "  <style>\n",
              "    .colab-df-container {\n",
              "      display:flex;\n",
              "      flex-wrap:wrap;\n",
              "      gap: 12px;\n",
              "    }\n",
              "\n",
              "    .colab-df-convert {\n",
              "      background-color: #E8F0FE;\n",
              "      border: none;\n",
              "      border-radius: 50%;\n",
              "      cursor: pointer;\n",
              "      display: none;\n",
              "      fill: #1967D2;\n",
              "      height: 32px;\n",
              "      padding: 0 0 0 0;\n",
              "      width: 32px;\n",
              "    }\n",
              "\n",
              "    .colab-df-convert:hover {\n",
              "      background-color: #E2EBFA;\n",
              "      box-shadow: 0px 1px 2px rgba(60, 64, 67, 0.3), 0px 1px 3px 1px rgba(60, 64, 67, 0.15);\n",
              "      fill: #174EA6;\n",
              "    }\n",
              "\n",
              "    [theme=dark] .colab-df-convert {\n",
              "      background-color: #3B4455;\n",
              "      fill: #D2E3FC;\n",
              "    }\n",
              "\n",
              "    [theme=dark] .colab-df-convert:hover {\n",
              "      background-color: #434B5C;\n",
              "      box-shadow: 0px 1px 3px 1px rgba(0, 0, 0, 0.15);\n",
              "      filter: drop-shadow(0px 1px 2px rgba(0, 0, 0, 0.3));\n",
              "      fill: #FFFFFF;\n",
              "    }\n",
              "  </style>\n",
              "\n",
              "      <script>\n",
              "        const buttonEl =\n",
              "          document.querySelector('#df-78716c36-6f7f-41a8-b6aa-8ed7253d2a1a button.colab-df-convert');\n",
              "        buttonEl.style.display =\n",
              "          google.colab.kernel.accessAllowed ? 'block' : 'none';\n",
              "\n",
              "        async function convertToInteractive(key) {\n",
              "          const element = document.querySelector('#df-78716c36-6f7f-41a8-b6aa-8ed7253d2a1a');\n",
              "          const dataTable =\n",
              "            await google.colab.kernel.invokeFunction('convertToInteractive',\n",
              "                                                     [key], {});\n",
              "          if (!dataTable) return;\n",
              "\n",
              "          const docLinkHtml = 'Like what you see? Visit the ' +\n",
              "            '<a target=\"_blank\" href=https://colab.research.google.com/notebooks/data_table.ipynb>data table notebook</a>'\n",
              "            + ' to learn more about interactive tables.';\n",
              "          element.innerHTML = '';\n",
              "          dataTable['output_type'] = 'display_data';\n",
              "          await google.colab.output.renderOutput(dataTable, element);\n",
              "          const docLink = document.createElement('div');\n",
              "          docLink.innerHTML = docLinkHtml;\n",
              "          element.appendChild(docLink);\n",
              "        }\n",
              "      </script>\n",
              "    </div>\n",
              "  </div>\n",
              "  "
            ]
          },
          "metadata": {},
          "execution_count": 21
        }
      ]
    },
    {
      "cell_type": "code",
      "source": [
        "df.drop(['Date_of_Journey'], axis=1, inplace=True)"
      ],
      "metadata": {
        "id": "XR_YQmf_Anm6"
      },
      "execution_count": 22,
      "outputs": []
    },
    {
      "cell_type": "markdown",
      "source": [
        "Let's do the same for the other relative columns"
      ],
      "metadata": {
        "id": "EuGQ_I_IBHrJ"
      }
    },
    {
      "cell_type": "markdown",
      "source": [
        "#### Dep_time"
      ],
      "metadata": {
        "id": "BnXMdxfaBImI"
      }
    },
    {
      "cell_type": "code",
      "source": [
        "df['Dep_hr']=pd.to_datetime(df['Dep_Time']).dt.hour\n",
        "df['Dep_min']=pd.to_datetime(df['Dep_Time']).dt.minute"
      ],
      "metadata": {
        "id": "9iDl_p7nBA7b"
      },
      "execution_count": 23,
      "outputs": []
    },
    {
      "cell_type": "code",
      "source": [
        "df.drop([\"Dep_Time\"],axis=1,inplace=True)"
      ],
      "metadata": {
        "id": "TqHN7htPBSV1"
      },
      "execution_count": 24,
      "outputs": []
    },
    {
      "cell_type": "markdown",
      "source": [
        "#### Arrival_time"
      ],
      "metadata": {
        "id": "pBdpgWpzBVjc"
      }
    },
    {
      "cell_type": "code",
      "source": [
        "df['Arrival_hr']=pd.to_datetime(df['Arrival_Time']).dt.hour\n",
        "df['Arrival_min']=pd.to_datetime(df['Arrival_Time']).dt.minute"
      ],
      "metadata": {
        "id": "YkXQmRuKBUSP"
      },
      "execution_count": 25,
      "outputs": []
    },
    {
      "cell_type": "code",
      "source": [
        "df.drop([\"Arrival_Time\"],axis=1,inplace=True)"
      ],
      "metadata": {
        "id": "PKWNU3rGBYoS"
      },
      "execution_count": 26,
      "outputs": []
    },
    {
      "cell_type": "markdown",
      "source": [
        "#### Duration Time"
      ],
      "metadata": {
        "id": "xkU67xIrBgJd"
      }
    },
    {
      "cell_type": "code",
      "source": [
        "duration=df['Duration'].str.split(' ',expand=True)\n",
        "duration[1].fillna('00m',inplace=True)\n",
        "df['duration_hr']=duration[0].apply(lambda x: x[:-1])\n",
        "df['duration_min']=duration[1].apply(lambda x: x[:-1])"
      ],
      "metadata": {
        "id": "19FwgBMaBaca"
      },
      "execution_count": 27,
      "outputs": []
    },
    {
      "cell_type": "code",
      "source": [
        "df.head(3)"
      ],
      "metadata": {
        "colab": {
          "base_uri": "https://localhost:8080/",
          "height": 450
        },
        "id": "m40YzkF0Cn1K",
        "outputId": "a6179ccb-997a-4b1e-cb76-ea1cc208f935"
      },
      "execution_count": 28,
      "outputs": [
        {
          "output_type": "execute_result",
          "data": {
            "text/plain": [
              "       Airline    Source Destination                  Route Duration  \\\n",
              "0       IndiGo  Banglore   New Delhi              BLR → DEL   2h 50m   \n",
              "1    Air India   Kolkata    Banglore  CCU → IXR → BBI → BLR   7h 25m   \n",
              "2  Jet Airways     Delhi      Cochin  DEL → LKO → BOM → COK      19h   \n",
              "\n",
              "  Total_Stops Additional_Info  Price  Day_of_Journey  Month_of_Journey  \\\n",
              "0    non-stop         No info   3897              24                 3   \n",
              "1     2 stops         No info   7662               5                 1   \n",
              "2     2 stops         No info  13882               6                 9   \n",
              "\n",
              "   Dep_hr  Dep_min  Arrival_hr  Arrival_min duration_hr duration_min  \n",
              "0      22       20           1           10           2           50  \n",
              "1       5       50          13           15           7           25  \n",
              "2       9       25           4           25          19           00  "
            ],
            "text/html": [
              "\n",
              "  <div id=\"df-013f201c-2052-4d0f-9538-a25e417a39d5\">\n",
              "    <div class=\"colab-df-container\">\n",
              "      <div>\n",
              "<style scoped>\n",
              "    .dataframe tbody tr th:only-of-type {\n",
              "        vertical-align: middle;\n",
              "    }\n",
              "\n",
              "    .dataframe tbody tr th {\n",
              "        vertical-align: top;\n",
              "    }\n",
              "\n",
              "    .dataframe thead th {\n",
              "        text-align: right;\n",
              "    }\n",
              "</style>\n",
              "<table border=\"1\" class=\"dataframe\">\n",
              "  <thead>\n",
              "    <tr style=\"text-align: right;\">\n",
              "      <th></th>\n",
              "      <th>Airline</th>\n",
              "      <th>Source</th>\n",
              "      <th>Destination</th>\n",
              "      <th>Route</th>\n",
              "      <th>Duration</th>\n",
              "      <th>Total_Stops</th>\n",
              "      <th>Additional_Info</th>\n",
              "      <th>Price</th>\n",
              "      <th>Day_of_Journey</th>\n",
              "      <th>Month_of_Journey</th>\n",
              "      <th>Dep_hr</th>\n",
              "      <th>Dep_min</th>\n",
              "      <th>Arrival_hr</th>\n",
              "      <th>Arrival_min</th>\n",
              "      <th>duration_hr</th>\n",
              "      <th>duration_min</th>\n",
              "    </tr>\n",
              "  </thead>\n",
              "  <tbody>\n",
              "    <tr>\n",
              "      <th>0</th>\n",
              "      <td>IndiGo</td>\n",
              "      <td>Banglore</td>\n",
              "      <td>New Delhi</td>\n",
              "      <td>BLR → DEL</td>\n",
              "      <td>2h 50m</td>\n",
              "      <td>non-stop</td>\n",
              "      <td>No info</td>\n",
              "      <td>3897</td>\n",
              "      <td>24</td>\n",
              "      <td>3</td>\n",
              "      <td>22</td>\n",
              "      <td>20</td>\n",
              "      <td>1</td>\n",
              "      <td>10</td>\n",
              "      <td>2</td>\n",
              "      <td>50</td>\n",
              "    </tr>\n",
              "    <tr>\n",
              "      <th>1</th>\n",
              "      <td>Air India</td>\n",
              "      <td>Kolkata</td>\n",
              "      <td>Banglore</td>\n",
              "      <td>CCU → IXR → BBI → BLR</td>\n",
              "      <td>7h 25m</td>\n",
              "      <td>2 stops</td>\n",
              "      <td>No info</td>\n",
              "      <td>7662</td>\n",
              "      <td>5</td>\n",
              "      <td>1</td>\n",
              "      <td>5</td>\n",
              "      <td>50</td>\n",
              "      <td>13</td>\n",
              "      <td>15</td>\n",
              "      <td>7</td>\n",
              "      <td>25</td>\n",
              "    </tr>\n",
              "    <tr>\n",
              "      <th>2</th>\n",
              "      <td>Jet Airways</td>\n",
              "      <td>Delhi</td>\n",
              "      <td>Cochin</td>\n",
              "      <td>DEL → LKO → BOM → COK</td>\n",
              "      <td>19h</td>\n",
              "      <td>2 stops</td>\n",
              "      <td>No info</td>\n",
              "      <td>13882</td>\n",
              "      <td>6</td>\n",
              "      <td>9</td>\n",
              "      <td>9</td>\n",
              "      <td>25</td>\n",
              "      <td>4</td>\n",
              "      <td>25</td>\n",
              "      <td>19</td>\n",
              "      <td>00</td>\n",
              "    </tr>\n",
              "  </tbody>\n",
              "</table>\n",
              "</div>\n",
              "      <button class=\"colab-df-convert\" onclick=\"convertToInteractive('df-013f201c-2052-4d0f-9538-a25e417a39d5')\"\n",
              "              title=\"Convert this dataframe to an interactive table.\"\n",
              "              style=\"display:none;\">\n",
              "        \n",
              "  <svg xmlns=\"http://www.w3.org/2000/svg\" height=\"24px\"viewBox=\"0 0 24 24\"\n",
              "       width=\"24px\">\n",
              "    <path d=\"M0 0h24v24H0V0z\" fill=\"none\"/>\n",
              "    <path d=\"M18.56 5.44l.94 2.06.94-2.06 2.06-.94-2.06-.94-.94-2.06-.94 2.06-2.06.94zm-11 1L8.5 8.5l.94-2.06 2.06-.94-2.06-.94L8.5 2.5l-.94 2.06-2.06.94zm10 10l.94 2.06.94-2.06 2.06-.94-2.06-.94-.94-2.06-.94 2.06-2.06.94z\"/><path d=\"M17.41 7.96l-1.37-1.37c-.4-.4-.92-.59-1.43-.59-.52 0-1.04.2-1.43.59L10.3 9.45l-7.72 7.72c-.78.78-.78 2.05 0 2.83L4 21.41c.39.39.9.59 1.41.59.51 0 1.02-.2 1.41-.59l7.78-7.78 2.81-2.81c.8-.78.8-2.07 0-2.86zM5.41 20L4 18.59l7.72-7.72 1.47 1.35L5.41 20z\"/>\n",
              "  </svg>\n",
              "      </button>\n",
              "      \n",
              "  <style>\n",
              "    .colab-df-container {\n",
              "      display:flex;\n",
              "      flex-wrap:wrap;\n",
              "      gap: 12px;\n",
              "    }\n",
              "\n",
              "    .colab-df-convert {\n",
              "      background-color: #E8F0FE;\n",
              "      border: none;\n",
              "      border-radius: 50%;\n",
              "      cursor: pointer;\n",
              "      display: none;\n",
              "      fill: #1967D2;\n",
              "      height: 32px;\n",
              "      padding: 0 0 0 0;\n",
              "      width: 32px;\n",
              "    }\n",
              "\n",
              "    .colab-df-convert:hover {\n",
              "      background-color: #E2EBFA;\n",
              "      box-shadow: 0px 1px 2px rgba(60, 64, 67, 0.3), 0px 1px 3px 1px rgba(60, 64, 67, 0.15);\n",
              "      fill: #174EA6;\n",
              "    }\n",
              "\n",
              "    [theme=dark] .colab-df-convert {\n",
              "      background-color: #3B4455;\n",
              "      fill: #D2E3FC;\n",
              "    }\n",
              "\n",
              "    [theme=dark] .colab-df-convert:hover {\n",
              "      background-color: #434B5C;\n",
              "      box-shadow: 0px 1px 3px 1px rgba(0, 0, 0, 0.15);\n",
              "      filter: drop-shadow(0px 1px 2px rgba(0, 0, 0, 0.3));\n",
              "      fill: #FFFFFF;\n",
              "    }\n",
              "  </style>\n",
              "\n",
              "      <script>\n",
              "        const buttonEl =\n",
              "          document.querySelector('#df-013f201c-2052-4d0f-9538-a25e417a39d5 button.colab-df-convert');\n",
              "        buttonEl.style.display =\n",
              "          google.colab.kernel.accessAllowed ? 'block' : 'none';\n",
              "\n",
              "        async function convertToInteractive(key) {\n",
              "          const element = document.querySelector('#df-013f201c-2052-4d0f-9538-a25e417a39d5');\n",
              "          const dataTable =\n",
              "            await google.colab.kernel.invokeFunction('convertToInteractive',\n",
              "                                                     [key], {});\n",
              "          if (!dataTable) return;\n",
              "\n",
              "          const docLinkHtml = 'Like what you see? Visit the ' +\n",
              "            '<a target=\"_blank\" href=https://colab.research.google.com/notebooks/data_table.ipynb>data table notebook</a>'\n",
              "            + ' to learn more about interactive tables.';\n",
              "          element.innerHTML = '';\n",
              "          dataTable['output_type'] = 'display_data';\n",
              "          await google.colab.output.renderOutput(dataTable, element);\n",
              "          const docLink = document.createElement('div');\n",
              "          docLink.innerHTML = docLinkHtml;\n",
              "          element.appendChild(docLink);\n",
              "        }\n",
              "      </script>\n",
              "    </div>\n",
              "  </div>\n",
              "  "
            ]
          },
          "metadata": {},
          "execution_count": 28
        }
      ]
    },
    {
      "cell_type": "code",
      "source": [
        "df['duration_hr']=df['duration_hr'].astype(int)"
      ],
      "metadata": {
        "id": "zU7nQbYSHhZG"
      },
      "execution_count": 63,
      "outputs": []
    },
    {
      "cell_type": "code",
      "source": [
        "df['duration_min']=df['duration_min'].astype(int)"
      ],
      "metadata": {
        "id": "PWZYHt1RHPiR"
      },
      "execution_count": 61,
      "outputs": []
    },
    {
      "cell_type": "code",
      "source": [
        "df.drop([\"Duration\"],axis=1,inplace=True)"
      ],
      "metadata": {
        "id": "984Ey0m-CrFj"
      },
      "execution_count": 29,
      "outputs": []
    },
    {
      "cell_type": "code",
      "source": [
        "cf.set_config_file(theme='ggplot',sharing='public',offline=True)"
      ],
      "metadata": {
        "colab": {
          "base_uri": "https://localhost:8080/",
          "height": 17
        },
        "id": "MSFDr00EC_NF",
        "outputId": "7ccd37aa-646f-4316-8f26-34bc1749501f"
      },
      "execution_count": 33,
      "outputs": [
        {
          "output_type": "display_data",
          "data": {
            "text/html": [
              "        <script type=\"text/javascript\">\n",
              "        window.PlotlyConfig = {MathJaxConfig: 'local'};\n",
              "        if (window.MathJax) {MathJax.Hub.Config({SVG: {font: \"STIX-Web\"}});}\n",
              "        if (typeof require !== 'undefined') {\n",
              "        require.undef(\"plotly\");\n",
              "        requirejs.config({\n",
              "            paths: {\n",
              "                'plotly': ['https://cdn.plot.ly/plotly-2.8.3.min']\n",
              "            }\n",
              "        });\n",
              "        require(['plotly'], function(Plotly) {\n",
              "            window._Plotly = Plotly;\n",
              "        });\n",
              "        }\n",
              "        </script>\n",
              "        "
            ]
          },
          "metadata": {}
        }
      ]
    },
    {
      "cell_type": "markdown",
      "source": [
        "### Count of Airlines"
      ],
      "metadata": {
        "id": "CVTNhKHiC_lc"
      }
    },
    {
      "cell_type": "code",
      "source": [
        "df['Airline'].value_counts()"
      ],
      "metadata": {
        "colab": {
          "base_uri": "https://localhost:8080/"
        },
        "id": "kPm__fEMC34w",
        "outputId": "0324074d-5ee8-4242-d7a0-bbcc22b48552"
      },
      "execution_count": 32,
      "outputs": [
        {
          "output_type": "execute_result",
          "data": {
            "text/plain": [
              "Jet Airways                          3849\n",
              "IndiGo                               2053\n",
              "Air India                            1751\n",
              "Multiple carriers                    1196\n",
              "SpiceJet                              818\n",
              "Vistara                               479\n",
              "Air Asia                              319\n",
              "GoAir                                 194\n",
              "Multiple carriers Premium economy      13\n",
              "Jet Airways Business                    6\n",
              "Vistara Premium economy                 3\n",
              "Trujet                                  1\n",
              "Name: Airline, dtype: int64"
            ]
          },
          "metadata": {},
          "execution_count": 32
        }
      ]
    },
    {
      "cell_type": "markdown",
      "source": [
        "### Ailine vs Price"
      ],
      "metadata": {
        "id": "7XM3OdAYDMZY"
      }
    },
    {
      "cell_type": "code",
      "source": [
        "Airprices=df.groupby('Airline')['Price'].mean().sort_values(ascending=False)\n",
        "plt.figure(figsize=(15,10))\n",
        "sns.barplot(Airprices.index,Airprices.values)\n",
        "plt.xticks(rotation=270)"
      ],
      "metadata": {
        "colab": {
          "base_uri": "https://localhost:8080/",
          "height": 662
        },
        "id": "ALUOwlubDGTQ",
        "outputId": "080f4630-1919-43ab-cbdc-2a9f5af307b0"
      },
      "execution_count": 44,
      "outputs": [
        {
          "output_type": "stream",
          "name": "stderr",
          "text": [
            "/usr/local/lib/python3.7/dist-packages/seaborn/_decorators.py:43: FutureWarning:\n",
            "\n",
            "Pass the following variables as keyword args: x, y. From version 0.12, the only valid positional argument will be `data`, and passing other arguments without an explicit keyword will result in an error or misinterpretation.\n",
            "\n"
          ]
        },
        {
          "output_type": "execute_result",
          "data": {
            "text/plain": [
              "(array([ 0,  1,  2,  3,  4,  5,  6,  7,  8,  9, 10, 11]),\n",
              " <a list of 12 Text major ticklabel objects>)"
            ]
          },
          "metadata": {},
          "execution_count": 44
        },
        {
          "output_type": "display_data",
          "data": {
            "text/plain": [
              "<Figure size 1080x720 with 1 Axes>"
            ],
            "image/png": "[encoded data removed]"
          },
          "metadata": {
            "needs_background": "light"
          }
        }
      ]
    },
    {
      "cell_type": "markdown",
      "source": [
        "Jet Airways Business has the highest price with Trujet having the lowest"
      ],
      "metadata": {
        "id": "fy0mles9DwAj"
      }
    },
    {
      "cell_type": "code",
      "source": [
        "plt.figure(figsize=(18,10))\n",
        "sns.boxplot(y='Price',x='Airline',data= df.sort_values('Price',ascending=False))\n",
        "plt.show"
      ],
      "metadata": {
        "colab": {
          "base_uri": "https://localhost:8080/",
          "height": 382
        },
        "id": "3d4iWGPBDsCL",
        "outputId": "439d7e9e-6782-4342-ccd3-16791f0b9e90"
      },
      "execution_count": 46,
      "outputs": [
        {
          "output_type": "execute_result",
          "data": {
            "text/plain": [
              "<function matplotlib.pyplot.show(*args, **kw)>"
            ]
          },
          "metadata": {},
          "execution_count": 46
        },
        {
          "output_type": "display_data",
          "data": {
            "text/plain": [
              "<Figure size 1296x720 with 1 Axes>"
            ],
            "image/png": "[encoded data removed]"
          },
          "metadata": {
            "needs_background": "light"
          }
        }
      ]
    },
    {
      "cell_type": "markdown",
      "source": [
        "### Price based on number of stops"
      ],
      "metadata": {
        "id": "Lv-g5nATD7g9"
      }
    },
    {
      "cell_type": "code",
      "source": [
        "df.groupby(['Airline','Total_Stops'])['Price'].mean()"
      ],
      "metadata": {
        "colab": {
          "base_uri": "https://localhost:8080/"
        },
        "id": "rJWZX_DVD2Ou",
        "outputId": "883efc05-997d-49bb-f4a7-40ae745221ec"
      },
      "execution_count": 38,
      "outputs": [
        {
          "output_type": "execute_result",
          "data": {
            "text/plain": [
              "Airline                            Total_Stops\n",
              "Air Asia                           1 stop          7078.325581\n",
              "                                   2 stops         6341.888889\n",
              "                                   non-stop        4492.331492\n",
              "Air India                          1 stop          9041.509259\n",
              "                                   2 stops        12092.779101\n",
              "                                   3 stops        12208.054054\n",
              "                                   4 stops        17686.000000\n",
              "                                   non-stop        5605.326139\n",
              "GoAir                              1 stop          6884.676471\n",
              "                                   non-stop        4726.173913\n",
              "IndiGo                             1 stop          7104.717528\n",
              "                                   2 stops         7507.526316\n",
              "                                   non-stop        4731.174053\n",
              "Jet Airways                        1 stop         12512.741223\n",
              "                                   2 stops        13387.247467\n",
              "                                   non-stop        6175.078652\n",
              "Jet Airways Business               1 stop         62844.250000\n",
              "                                   2 stops        49387.500000\n",
              "Multiple carriers                  1 stop         10711.316157\n",
              "                                   2 stops        14809.395349\n",
              "                                   3 stops        17292.750000\n",
              "Multiple carriers Premium economy  1 stop         11418.846154\n",
              "SpiceJet                           1 stop          6750.560811\n",
              "                                   non-stop        3805.423881\n",
              "Trujet                             1 stop          4140.000000\n",
              "Vistara                            1 stop          9641.148837\n",
              "                                   non-stop        6293.954545\n",
              "Vistara Premium economy            non-stop        8962.333333\n",
              "Name: Price, dtype: float64"
            ]
          },
          "metadata": {},
          "execution_count": 38
        }
      ]
    },
    {
      "cell_type": "code",
      "source": [
        "plt.figure(figsize=(18,10))\n",
        "ax=sns.barplot(x=df['Airline'],y=df['Price'],hue=df['Total_Stops'],palette=\"Set1\")\n",
        "ax.set_xticklabels(ax.get_xticklabels(),rotation=90)\n",
        "plt.show()"
      ],
      "metadata": {
        "colab": {
          "base_uri": "https://localhost:8080/",
          "height": 775
        },
        "id": "FdxUw4L1D8Pl",
        "outputId": "d7ba14d5-4ada-4cb8-e94f-b1e775875308"
      },
      "execution_count": 45,
      "outputs": [
        {
          "output_type": "display_data",
          "data": {
            "text/plain": [
              "<Figure size 1296x720 with 1 Axes>"
            ],
            "image/png": "[encoded data removed]"
          },
          "metadata": {
            "needs_background": "light"
          }
        }
      ]
    },
    {
      "cell_type": "markdown",
      "source": [
        "One stop and two stpos Jet Airways Business is having the highest price"
      ],
      "metadata": {
        "id": "aMn3UqahFBuF"
      }
    },
    {
      "cell_type": "markdown",
      "source": [
        "### Source vs Price"
      ],
      "metadata": {
        "id": "NNXWENSzFFIt"
      }
    },
    {
      "cell_type": "code",
      "source": [
        "df['Source'].value_counts()"
      ],
      "metadata": {
        "colab": {
          "base_uri": "https://localhost:8080/"
        },
        "id": "FEkDv5HXEIIG",
        "outputId": "584cf51a-1da6-4cda-a62d-da92e0d98907"
      },
      "execution_count": 47,
      "outputs": [
        {
          "output_type": "execute_result",
          "data": {
            "text/plain": [
              "Delhi       4536\n",
              "Kolkata     2871\n",
              "Banglore    2197\n",
              "Mumbai       697\n",
              "Chennai      381\n",
              "Name: Source, dtype: int64"
            ]
          },
          "metadata": {},
          "execution_count": 47
        }
      ]
    },
    {
      "cell_type": "code",
      "source": [
        "plt.figure(figsize=(15,10))\n",
        "sns.barplot(y='Price',x='Source',data=df.sort_values('Price',ascending=False))\n",
        "plt.show"
      ],
      "metadata": {
        "colab": {
          "base_uri": "https://localhost:8080/",
          "height": 446
        },
        "id": "wGHX4msCFKdH",
        "outputId": "654bc60b-40da-49f6-94f4-0bcdb9c451ca"
      },
      "execution_count": 48,
      "outputs": [
        {
          "output_type": "execute_result",
          "data": {
            "text/plain": [
              "<function matplotlib.pyplot.show(*args, **kw)>"
            ]
          },
          "metadata": {},
          "execution_count": 48
        },
        {
          "output_type": "display_data",
          "data": {
            "text/plain": [
              "<Figure size 1080x720 with 1 Axes>"
            ],
            "image/png": "[encoded data removed]"
          },
          "metadata": {
            "needs_background": "light"
          }
        }
      ]
    },
    {
      "cell_type": "markdown",
      "source": [
        "### Destination vs Price"
      ],
      "metadata": {
        "id": "KtV9iAj1FY5j"
      }
    },
    {
      "cell_type": "code",
      "source": [
        "plt.figure(figsize=(15,10))\n",
        "sns.barplot(y='Price',x='Destination',data=df.sort_values('Price',ascending=False))\n",
        "plt.show"
      ],
      "metadata": {
        "colab": {
          "base_uri": "https://localhost:8080/",
          "height": 646
        },
        "id": "-lvpDH5UFM--",
        "outputId": "e10a73b1-cbd4-4d66-deb9-28f5dccdacb6"
      },
      "execution_count": 51,
      "outputs": [
        {
          "output_type": "execute_result",
          "data": {
            "text/plain": [
              "<function matplotlib.pyplot.show(*args, **kw)>"
            ]
          },
          "metadata": {},
          "execution_count": 51
        },
        {
          "output_type": "display_data",
          "data": {
            "text/plain": [
              "<Figure size 1080x720 with 1 Axes>"
            ],
            "image/png": "[encoded data removed]"
          },
          "metadata": {
            "needs_background": "light"
          }
        }
      ]
    },
    {
      "cell_type": "code",
      "source": [
        "for i in df:\n",
        "  df.replace('New Delhi', 'Delhi', inplace=True)"
      ],
      "metadata": {
        "id": "I5Omj93kFXuS"
      },
      "execution_count": 50,
      "outputs": []
    },
    {
      "cell_type": "code",
      "source": [
        "plt.figure(figsize=(23,12))\n",
        "sns.heatmap(df.corr(),annot=True)"
      ],
      "metadata": {
        "colab": {
          "base_uri": "https://localhost:8080/",
          "height": 745
        },
        "id": "moFpUZqcFquq",
        "outputId": "fd1a306a-1004-4c72-9069-99b148467555"
      },
      "execution_count": 52,
      "outputs": [
        {
          "output_type": "execute_result",
          "data": {
            "text/plain": [
              "<matplotlib.axes._subplots.AxesSubplot at 0x7fdd2a707b10>"
            ]
          },
          "metadata": {},
          "execution_count": 52
        },
        {
          "output_type": "display_data",
          "data": {
            "text/plain": [
              "<Figure size 1656x864 with 2 Axes>"
            ],
            "image/png": "[encoded data removed]"
          },
          "metadata": {
            "needs_background": "light"
          }
        }
      ]
    },
    {
      "cell_type": "markdown",
      "source": [
        "The features are less correlated which is a good thing for us to avoid Multicollinearity"
      ],
      "metadata": {
        "id": "fIJftcJWGGbB"
      }
    },
    {
      "cell_type": "markdown",
      "source": [
        "## Apply Onehot Encoding on the categorical variables"
      ],
      "metadata": {
        "id": "Un-lFCGNGJmy"
      }
    },
    {
      "cell_type": "code",
      "source": [
        "df['Total_Stops']=df['Total_Stops'].map({'non-stop':0, '2 stops':2, '1 stop':1, '3 stops':3, '4 stops':4})\n",
        "air_dummy=pd.get_dummies(df['Airline'],drop_first=True)"
      ],
      "metadata": {
        "id": "rlIBgiKKF9vE"
      },
      "execution_count": 53,
      "outputs": []
    },
    {
      "cell_type": "code",
      "source": [
        "source_dest_dummy=pd.get_dummies(df[['Source','Destination']],drop_first=True)\n",
        "df=pd.concat([air_dummy,source_dest_dummy,df],axis=1)"
      ],
      "metadata": {
        "id": "76Ozt0KHGTOk"
      },
      "execution_count": 54,
      "outputs": []
    },
    {
      "cell_type": "code",
      "source": [
        "df.drop(['Airline','Source','Destination'],inplace=True,axis=1)"
      ],
      "metadata": {
        "id": "kZnhCeqBGX7c"
      },
      "execution_count": 55,
      "outputs": []
    },
    {
      "cell_type": "code",
      "source": [
        "df.drop(['Route','Additional_Info'],inplace=True,axis=1)"
      ],
      "metadata": {
        "id": "A_Y_WfA9G4ZL"
      },
      "execution_count": 59,
      "outputs": []
    },
    {
      "cell_type": "code",
      "source": [
        "\n",
        "df.head()"
      ],
      "metadata": {
        "colab": {
          "base_uri": "https://localhost:8080/",
          "height": 352
        },
        "id": "nrLqCzNNGaKa",
        "outputId": "256bb4e1-81a8-4a5a-9dbf-8f65e1bc2fa9"
      },
      "execution_count": 56,
      "outputs": [
        {
          "output_type": "execute_result",
          "data": {
            "text/plain": [
              "   Air India  GoAir  IndiGo  Jet Airways  Jet Airways Business  \\\n",
              "0          0      0       1            0                     0   \n",
              "1          1      0       0            0                     0   \n",
              "2          0      0       0            1                     0   \n",
              "3          0      0       1            0                     0   \n",
              "4          0      0       1            0                     0   \n",
              "\n",
              "   Multiple carriers  Multiple carriers Premium economy  SpiceJet  Trujet  \\\n",
              "0                  0                                  0         0       0   \n",
              "1                  0                                  0         0       0   \n",
              "2                  0                                  0         0       0   \n",
              "3                  0                                  0         0       0   \n",
              "4                  0                                  0         0       0   \n",
              "\n",
              "   Vistara  ...  Additional_Info  Price  Day_of_Journey  Month_of_Journey  \\\n",
              "0        0  ...          No info   3897              24                 3   \n",
              "1        0  ...          No info   7662               5                 1   \n",
              "2        0  ...          No info  13882               6                 9   \n",
              "3        0  ...          No info   6218               5                12   \n",
              "4        0  ...          No info  13302               3                 1   \n",
              "\n",
              "   Dep_hr  Dep_min  Arrival_hr  Arrival_min  duration_hr duration_min  \n",
              "0      22       20           1           10            2           50  \n",
              "1       5       50          13           15            7           25  \n",
              "2       9       25           4           25           19           00  \n",
              "3      18        5          23           30            5           25  \n",
              "4      16       50          21           35            4           45  \n",
              "\n",
              "[5 rows x 31 columns]"
            ],
            "text/html": [
              "\n",
              "  <div id=\"df-3b9b4c62-68f9-4171-bef1-781e48cf7f56\">\n",
              "    <div class=\"colab-df-container\">\n",
              "      <div>\n",
              "<style scoped>\n",
              "    .dataframe tbody tr th:only-of-type {\n",
              "        vertical-align: middle;\n",
              "    }\n",
              "\n",
              "    .dataframe tbody tr th {\n",
              "        vertical-align: top;\n",
              "    }\n",
              "\n",
              "    .dataframe thead th {\n",
              "        text-align: right;\n",
              "    }\n",
              "</style>\n",
              "<table border=\"1\" class=\"dataframe\">\n",
              "  <thead>\n",
              "    <tr style=\"text-align: right;\">\n",
              "      <th></th>\n",
              "      <th>Air India</th>\n",
              "      <th>GoAir</th>\n",
              "      <th>IndiGo</th>\n",
              "      <th>Jet Airways</th>\n",
              "      <th>Jet Airways Business</th>\n",
              "      <th>Multiple carriers</th>\n",
              "      <th>Multiple carriers Premium economy</th>\n",
              "      <th>SpiceJet</th>\n",
              "      <th>Trujet</th>\n",
              "      <th>Vistara</th>\n",
              "      <th>...</th>\n",
              "      <th>Additional_Info</th>\n",
              "      <th>Price</th>\n",
              "      <th>Day_of_Journey</th>\n",
              "      <th>Month_of_Journey</th>\n",
              "      <th>Dep_hr</th>\n",
              "      <th>Dep_min</th>\n",
              "      <th>Arrival_hr</th>\n",
              "      <th>Arrival_min</th>\n",
              "      <th>duration_hr</th>\n",
              "      <th>duration_min</th>\n",
              "    </tr>\n",
              "  </thead>\n",
              "  <tbody>\n",
              "    <tr>\n",
              "      <th>0</th>\n",
              "      <td>0</td>\n",
              "      <td>0</td>\n",
              "      <td>1</td>\n",
              "      <td>0</td>\n",
              "      <td>0</td>\n",
              "      <td>0</td>\n",
              "      <td>0</td>\n",
              "      <td>0</td>\n",
              "      <td>0</td>\n",
              "      <td>0</td>\n",
              "      <td>...</td>\n",
              "      <td>No info</td>\n",
              "      <td>3897</td>\n",
              "      <td>24</td>\n",
              "      <td>3</td>\n",
              "      <td>22</td>\n",
              "      <td>20</td>\n",
              "      <td>1</td>\n",
              "      <td>10</td>\n",
              "      <td>2</td>\n",
              "      <td>50</td>\n",
              "    </tr>\n",
              "    <tr>\n",
              "      <th>1</th>\n",
              "      <td>1</td>\n",
              "      <td>0</td>\n",
              "      <td>0</td>\n",
              "      <td>0</td>\n",
              "      <td>0</td>\n",
              "      <td>0</td>\n",
              "      <td>0</td>\n",
              "      <td>0</td>\n",
              "      <td>0</td>\n",
              "      <td>0</td>\n",
              "      <td>...</td>\n",
              "      <td>No info</td>\n",
              "      <td>7662</td>\n",
              "      <td>5</td>\n",
              "      <td>1</td>\n",
              "      <td>5</td>\n",
              "      <td>50</td>\n",
              "      <td>13</td>\n",
              "      <td>15</td>\n",
              "      <td>7</td>\n",
              "      <td>25</td>\n",
              "    </tr>\n",
              "    <tr>\n",
              "      <th>2</th>\n",
              "      <td>0</td>\n",
              "      <td>0</td>\n",
              "      <td>0</td>\n",
              "      <td>1</td>\n",
              "      <td>0</td>\n",
              "      <td>0</td>\n",
              "      <td>0</td>\n",
              "      <td>0</td>\n",
              "      <td>0</td>\n",
              "      <td>0</td>\n",
              "      <td>...</td>\n",
              "      <td>No info</td>\n",
              "      <td>13882</td>\n",
              "      <td>6</td>\n",
              "      <td>9</td>\n",
              "      <td>9</td>\n",
              "      <td>25</td>\n",
              "      <td>4</td>\n",
              "      <td>25</td>\n",
              "      <td>19</td>\n",
              "      <td>00</td>\n",
              "    </tr>\n",
              "    <tr>\n",
              "      <th>3</th>\n",
              "      <td>0</td>\n",
              "      <td>0</td>\n",
              "      <td>1</td>\n",
              "      <td>0</td>\n",
              "      <td>0</td>\n",
              "      <td>0</td>\n",
              "      <td>0</td>\n",
              "      <td>0</td>\n",
              "      <td>0</td>\n",
              "      <td>0</td>\n",
              "      <td>...</td>\n",
              "      <td>No info</td>\n",
              "      <td>6218</td>\n",
              "      <td>5</td>\n",
              "      <td>12</td>\n",
              "      <td>18</td>\n",
              "      <td>5</td>\n",
              "      <td>23</td>\n",
              "      <td>30</td>\n",
              "      <td>5</td>\n",
              "      <td>25</td>\n",
              "    </tr>\n",
              "    <tr>\n",
              "      <th>4</th>\n",
              "      <td>0</td>\n",
              "      <td>0</td>\n",
              "      <td>1</td>\n",
              "      <td>0</td>\n",
              "      <td>0</td>\n",
              "      <td>0</td>\n",
              "      <td>0</td>\n",
              "      <td>0</td>\n",
              "      <td>0</td>\n",
              "      <td>0</td>\n",
              "      <td>...</td>\n",
              "      <td>No info</td>\n",
              "      <td>13302</td>\n",
              "      <td>3</td>\n",
              "      <td>1</td>\n",
              "      <td>16</td>\n",
              "      <td>50</td>\n",
              "      <td>21</td>\n",
              "      <td>35</td>\n",
              "      <td>4</td>\n",
              "      <td>45</td>\n",
              "    </tr>\n",
              "  </tbody>\n",
              "</table>\n",
              "<p>5 rows × 31 columns</p>\n",
              "</div>\n",
              "      <button class=\"colab-df-convert\" onclick=\"convertToInteractive('df-3b9b4c62-68f9-4171-bef1-781e48cf7f56')\"\n",
              "              title=\"Convert this dataframe to an interactive table.\"\n",
              "              style=\"display:none;\">\n",
              "        \n",
              "  <svg xmlns=\"http://www.w3.org/2000/svg\" height=\"24px\"viewBox=\"0 0 24 24\"\n",
              "       width=\"24px\">\n",
              "    <path d=\"M0 0h24v24H0V0z\" fill=\"none\"/>\n",
              "    <path d=\"M18.56 5.44l.94 2.06.94-2.06 2.06-.94-2.06-.94-.94-2.06-.94 2.06-2.06.94zm-11 1L8.5 8.5l.94-2.06 2.06-.94-2.06-.94L8.5 2.5l-.94 2.06-2.06.94zm10 10l.94 2.06.94-2.06 2.06-.94-2.06-.94-.94-2.06-.94 2.06-2.06.94z\"/><path d=\"M17.41 7.96l-1.37-1.37c-.4-.4-.92-.59-1.43-.59-.52 0-1.04.2-1.43.59L10.3 9.45l-7.72 7.72c-.78.78-.78 2.05 0 2.83L4 21.41c.39.39.9.59 1.41.59.51 0 1.02-.2 1.41-.59l7.78-7.78 2.81-2.81c.8-.78.8-2.07 0-2.86zM5.41 20L4 18.59l7.72-7.72 1.47 1.35L5.41 20z\"/>\n",
              "  </svg>\n",
              "      </button>\n",
              "      \n",
              "  <style>\n",
              "    .colab-df-container {\n",
              "      display:flex;\n",
              "      flex-wrap:wrap;\n",
              "      gap: 12px;\n",
              "    }\n",
              "\n",
              "    .colab-df-convert {\n",
              "      background-color: #E8F0FE;\n",
              "      border: none;\n",
              "      border-radius: 50%;\n",
              "      cursor: pointer;\n",
              "      display: none;\n",
              "      fill: #1967D2;\n",
              "      height: 32px;\n",
              "      padding: 0 0 0 0;\n",
              "      width: 32px;\n",
              "    }\n",
              "\n",
              "    .colab-df-convert:hover {\n",
              "      background-color: #E2EBFA;\n",
              "      box-shadow: 0px 1px 2px rgba(60, 64, 67, 0.3), 0px 1px 3px 1px rgba(60, 64, 67, 0.15);\n",
              "      fill: #174EA6;\n",
              "    }\n",
              "\n",
              "    [theme=dark] .colab-df-convert {\n",
              "      background-color: #3B4455;\n",
              "      fill: #D2E3FC;\n",
              "    }\n",
              "\n",
              "    [theme=dark] .colab-df-convert:hover {\n",
              "      background-color: #434B5C;\n",
              "      box-shadow: 0px 1px 3px 1px rgba(0, 0, 0, 0.15);\n",
              "      filter: drop-shadow(0px 1px 2px rgba(0, 0, 0, 0.3));\n",
              "      fill: #FFFFFF;\n",
              "    }\n",
              "  </style>\n",
              "\n",
              "      <script>\n",
              "        const buttonEl =\n",
              "          document.querySelector('#df-3b9b4c62-68f9-4171-bef1-781e48cf7f56 button.colab-df-convert');\n",
              "        buttonEl.style.display =\n",
              "          google.colab.kernel.accessAllowed ? 'block' : 'none';\n",
              "\n",
              "        async function convertToInteractive(key) {\n",
              "          const element = document.querySelector('#df-3b9b4c62-68f9-4171-bef1-781e48cf7f56');\n",
              "          const dataTable =\n",
              "            await google.colab.kernel.invokeFunction('convertToInteractive',\n",
              "                                                     [key], {});\n",
              "          if (!dataTable) return;\n",
              "\n",
              "          const docLinkHtml = 'Like what you see? Visit the ' +\n",
              "            '<a target=\"_blank\" href=https://colab.research.google.com/notebooks/data_table.ipynb>data table notebook</a>'\n",
              "            + ' to learn more about interactive tables.';\n",
              "          element.innerHTML = '';\n",
              "          dataTable['output_type'] = 'display_data';\n",
              "          await google.colab.output.renderOutput(dataTable, element);\n",
              "          const docLink = document.createElement('div');\n",
              "          docLink.innerHTML = docLinkHtml;\n",
              "          element.appendChild(docLink);\n",
              "        }\n",
              "      </script>\n",
              "    </div>\n",
              "  </div>\n",
              "  "
            ]
          },
          "metadata": {},
          "execution_count": 56
        }
      ]
    },
    {
      "cell_type": "code",
      "source": [
        "df.shape"
      ],
      "metadata": {
        "colab": {
          "base_uri": "https://localhost:8080/"
        },
        "id": "WSbRgKNVGijF",
        "outputId": "8c1bb4b2-94e8-4629-899d-67a0648fced1"
      },
      "execution_count": 57,
      "outputs": [
        {
          "output_type": "execute_result",
          "data": {
            "text/plain": [
              "(10682, 31)"
            ]
          },
          "metadata": {},
          "execution_count": 57
        }
      ]
    },
    {
      "cell_type": "code",
      "source": [
        "df.dtypes"
      ],
      "metadata": {
        "colab": {
          "base_uri": "https://localhost:8080/"
        },
        "id": "iqctfctqGmGQ",
        "outputId": "0820226a-cd51-4ce0-8edb-c6bab53bfdb9"
      },
      "execution_count": 64,
      "outputs": [
        {
          "output_type": "execute_result",
          "data": {
            "text/plain": [
              "Air India                            uint8\n",
              "GoAir                                uint8\n",
              "IndiGo                               uint8\n",
              "Jet Airways                          uint8\n",
              "Jet Airways Business                 uint8\n",
              "Multiple carriers                    uint8\n",
              "Multiple carriers Premium economy    uint8\n",
              "SpiceJet                             uint8\n",
              "Trujet                               uint8\n",
              "Vistara                              uint8\n",
              "Vistara Premium economy              uint8\n",
              "Source_Chennai                       uint8\n",
              "Source_Delhi                         uint8\n",
              "Source_Kolkata                       uint8\n",
              "Source_Mumbai                        uint8\n",
              "Destination_Cochin                   uint8\n",
              "Destination_Delhi                    uint8\n",
              "Destination_Hyderabad                uint8\n",
              "Destination_Kolkata                  uint8\n",
              "Total_Stops                          int64\n",
              "Price                                int64\n",
              "Day_of_Journey                       int64\n",
              "Month_of_Journey                     int64\n",
              "Dep_hr                               int64\n",
              "Dep_min                              int64\n",
              "Arrival_hr                           int64\n",
              "Arrival_min                          int64\n",
              "duration_hr                          int64\n",
              "duration_min                         int64\n",
              "dtype: object"
            ]
          },
          "metadata": {},
          "execution_count": 64
        }
      ]
    },
    {
      "cell_type": "markdown",
      "source": [
        "## Test Data"
      ],
      "metadata": {
        "id": "XLSPug72Hp2c"
      }
    },
    {
      "cell_type": "code",
      "source": [
        "df_test=pd.read_excel(\"Test_set.xlsx\")"
      ],
      "metadata": {
        "id": "70wirRgkGplD"
      },
      "execution_count": 65,
      "outputs": []
    },
    {
      "cell_type": "markdown",
      "source": [
        "Let's Perform that same steps as we did for train data earlier"
      ],
      "metadata": {
        "id": "Hfx9CD9BHwBV"
      }
    },
    {
      "cell_type": "code",
      "source": [
        "df_test['Date_of_Journey']=pd.to_datetime(df_test['Date_of_Journey'])\n",
        "df_test['Day_of_Journey']=(df_test['Date_of_Journey']).dt.day\n",
        "df_test['Month_of_Journey']=(df_test['Date_of_Journey']).dt.month\n",
        "\n",
        "#Dep_time \n",
        "df_test['Dep_hr']=pd.to_datetime(df_test['Dep_Time']).dt.hour\n",
        "df_test['Dep_min']=pd.to_datetime(df_test['Dep_Time']).dt.minute\n",
        "\n",
        "#Arrival_time\n",
        "df_test['Arrival_hr']=pd.to_datetime(df_test['Arrival_Time']).dt.hour\n",
        "df_test['Arrival_min']=pd.to_datetime(df_test['Arrival_Time']).dt.minute\n",
        "\n",
        "#Splitting duration  time\n",
        "\n",
        "a=df_test['Duration'].str.split(' ',expand=True)\n",
        "a[1].fillna('00m',inplace=True)\n",
        "df_test['dur_hr']=a[0].apply(lambda x: x[:-1])\n",
        "df_test['dur_min']=a[1].apply(lambda x: x[:-1])\n",
        "\n",
        "#dropping the data\n",
        "df_test.drop(['Date_of_Journey','Duration','Arrival_Time','Dep_Time'],inplace=True,axis=1)\n",
        "\n",
        "#Handling Categorical Values \n",
        "df_test['Total_Stops']=df_test['Total_Stops'].map({'non-stop':0, '2 stops':2, '1 stop':1, '3 stops':3, '4 stops':4})\n",
        "\n",
        "air_dummy=pd.get_dummies(df_test['Airline'],drop_first=True)\n",
        "source_dest_dummy=pd.get_dummies(df_test[['Source','Destination']],drop_first=True)\n",
        "df_test=pd.concat([air_dummy,source_dest_dummy,df_test],axis=1)"
      ],
      "metadata": {
        "id": "EQH5rkEFHtvQ"
      },
      "execution_count": 66,
      "outputs": []
    },
    {
      "cell_type": "code",
      "source": [
        "df_test.drop(['Airline','Source','Destination','Additional_Info',\"Route\"],axis=1,inplace=True)"
      ],
      "metadata": {
        "id": "1t4ndBw1H0sB"
      },
      "execution_count": 68,
      "outputs": []
    },
    {
      "cell_type": "code",
      "source": [
        "print('train_shape',df.shape)\n",
        "print('test_shape',df_test.shape)"
      ],
      "metadata": {
        "colab": {
          "base_uri": "https://localhost:8080/"
        },
        "id": "4YYw3f9GH6Lr",
        "outputId": "e8a3f263-d16a-4258-d822-9cbad581a712"
      },
      "execution_count": 69,
      "outputs": [
        {
          "output_type": "stream",
          "name": "stdout",
          "text": [
            "train_shape (10682, 29)\n",
            "test_shape (2671, 28)\n"
          ]
        }
      ]
    },
    {
      "cell_type": "code",
      "source": [
        "x=df.drop(['Price'],axis=1)\n",
        "y=df['Price']"
      ],
      "metadata": {
        "id": "3e6-KuFAIA64"
      },
      "execution_count": 71,
      "outputs": []
    },
    {
      "cell_type": "markdown",
      "source": [
        "## Model Building and Hyperparameter Tuning"
      ],
      "metadata": {
        "id": "Yub_qduKIMSl"
      }
    },
    {
      "cell_type": "markdown",
      "source": [
        "### ExtraTreesRegressor"
      ],
      "metadata": {
        "id": "B_jsEv_HIOtO"
      }
    },
    {
      "cell_type": "code",
      "source": [
        "from sklearn.ensemble import ExtraTreesRegressor\n",
        "ET_Model=ExtraTreesRegressor()\n",
        "ET_Model.fit(x,y)"
      ],
      "metadata": {
        "colab": {
          "base_uri": "https://localhost:8080/"
        },
        "id": "Wa7sM13uIIAI",
        "outputId": "b3f4e250-3913-4787-b763-4420aae16766"
      },
      "execution_count": 72,
      "outputs": [
        {
          "output_type": "execute_result",
          "data": {
            "text/plain": [
              "ExtraTreesRegressor()"
            ]
          },
          "metadata": {},
          "execution_count": 72
        }
      ]
    },
    {
      "cell_type": "code",
      "source": [
        "pd.Series(ET_Model.feature_importances_,index=x.columns).sort_values(ascending=False).plot(kind='bar',figsize=(18,10))\n"
      ],
      "metadata": {
        "colab": {
          "base_uri": "https://localhost:8080/",
          "height": 469
        },
        "id": "oPr0rJqjIQzp",
        "outputId": "7e735195-eaba-400a-eaf9-ad28ec619322"
      },
      "execution_count": 73,
      "outputs": [
        {
          "output_type": "execute_result",
          "data": {
            "text/plain": [
              "<matplotlib.axes._subplots.AxesSubplot at 0x7fdd2a82f1d0>"
            ]
          },
          "metadata": {},
          "execution_count": 73
        },
        {
          "output_type": "display_data",
          "data": {
            "text/plain": [
              "<Figure size 1296x720 with 1 Axes>"
            ],
            "image/png": "[encoded data removed]"
          },
          "metadata": {
            "needs_background": "light"
          }
        }
      ]
    },
    {
      "cell_type": "code",
      "source": [
        "from sklearn.model_selection import train_test_split\n",
        "X_train, X_test, y_train, y_test = train_test_split(x, y, test_size = 0.2, random_state = 50)"
      ],
      "metadata": {
        "id": "Wfn8E_KVIW5i"
      },
      "execution_count": 74,
      "outputs": []
    },
    {
      "cell_type": "code",
      "source": [
        "from sklearn.ensemble import  ExtraTreesRegressor\n",
        "ET_Model=ExtraTreesRegressor(n_estimators = 120)\n",
        "ET_Model.fit(X_train,y_train)\n",
        "y_predict=ET_Model.predict(X_test)\n",
        "\n",
        "\n",
        "from sklearn.metrics import r2_score\n",
        "r2_score(y_test,y_predict)"
      ],
      "metadata": {
        "colab": {
          "base_uri": "https://localhost:8080/"
        },
        "id": "1_qDEr0OIfiR",
        "outputId": "06c88da9-83f1-4f62-fbd1-144b0d535034"
      },
      "execution_count": 75,
      "outputs": [
        {
          "output_type": "execute_result",
          "data": {
            "text/plain": [
              "0.7695427565091292"
            ]
          },
          "metadata": {},
          "execution_count": 75
        }
      ]
    },
    {
      "cell_type": "code",
      "source": [
        "from sklearn.ensemble import RandomForestRegressor\n",
        "RF_Model=RandomForestRegressor()\n",
        "RF_Model.fit(X_train,y_train)\n",
        "y_predict=RF_Model.predict(X_test)\n",
        "r2_score(y_test,y_predict)"
      ],
      "metadata": {
        "colab": {
          "base_uri": "https://localhost:8080/"
        },
        "id": "kX1EAxNiIiGq",
        "outputId": "60bdd96b-9ec4-4813-c7eb-0eeed9c9fae1"
      },
      "execution_count": 76,
      "outputs": [
        {
          "output_type": "execute_result",
          "data": {
            "text/plain": [
              "0.7948984948953903"
            ]
          },
          "metadata": {},
          "execution_count": 76
        }
      ]
    },
    {
      "cell_type": "code",
      "source": [
        "from sklearn.model_selection import RandomizedSearchCV\n",
        "\n",
        "n_estimators = [int(x) for x in np.linspace(start = 80, stop = 1500, num = 10)]\n",
        "max_features = ['auto', 'sqrt']\n",
        "max_depth = [int(x) for x in np.linspace(6, 45, num = 5)]\n",
        "min_samples_split = [2, 5, 10, 15, 100]\n",
        "min_samples_leaf = [1, 2, 5, 10]\n",
        "\n",
        "# create random grid\n",
        "\n",
        "rand_grid={'n_estimators': n_estimators,\n",
        "               'max_features': max_features,\n",
        "               'max_depth': max_depth,\n",
        "               'min_samples_split': min_samples_split,\n",
        "               'min_samples_leaf': min_samples_leaf}\n",
        "\n",
        "rf=RandomForestRegressor()\n",
        "\n",
        "rCV=RandomizedSearchCV(estimator=rf,param_distributions=rand_grid,scoring='neg_mean_squared_error',n_iter=10,cv=3,random_state=42, n_jobs = 1)\n"
      ],
      "metadata": {
        "id": "blggTxsaInjc"
      },
      "execution_count": 77,
      "outputs": []
    },
    {
      "cell_type": "code",
      "source": [
        "rCV.fit(X_train,y_train)"
      ],
      "metadata": {
        "colab": {
          "base_uri": "https://localhost:8080/"
        },
        "id": "N2inYQicKrJC",
        "outputId": "20d5dca3-b5bf-44de-b15f-af24385c0636"
      },
      "execution_count": 78,
      "outputs": [
        {
          "output_type": "execute_result",
          "data": {
            "text/plain": [
              "RandomizedSearchCV(cv=3, estimator=RandomForestRegressor(), n_jobs=1,\n",
              "                   param_distributions={'max_depth': [6, 15, 25, 35, 45],\n",
              "                                        'max_features': ['auto', 'sqrt'],\n",
              "                                        'min_samples_leaf': [1, 2, 5, 10],\n",
              "                                        'min_samples_split': [2, 5, 10, 15,\n",
              "                                                              100],\n",
              "                                        'n_estimators': [80, 237, 395, 553, 711,\n",
              "                                                         868, 1026, 1184, 1342,\n",
              "                                                         1500]},\n",
              "                   random_state=42, scoring='neg_mean_squared_error')"
            ]
          },
          "metadata": {},
          "execution_count": 78
        }
      ]
    },
    {
      "cell_type": "code",
      "source": [
        "rf_pred=rCV.predict(X_test)\n",
        "rf_pred"
      ],
      "metadata": {
        "colab": {
          "base_uri": "https://localhost:8080/"
        },
        "id": "EtcTaccDK6oR",
        "outputId": "d5a58e0c-56fd-45b4-b4b8-1066623cb30f"
      },
      "execution_count": 79,
      "outputs": [
        {
          "output_type": "execute_result",
          "data": {
            "text/plain": [
              "array([12487.11078773,  4291.7685134 ,  6137.168405  , ...,\n",
              "       11653.66269397,  9727.5215047 ,  8650.8088432 ])"
            ]
          },
          "metadata": {},
          "execution_count": 79
        }
      ]
    },
    {
      "cell_type": "code",
      "source": [
        "from sklearn.metrics import mean_absolute_error,mean_squared_error\n",
        "print('MAE',mean_absolute_error(y_test,rf_pred))\n",
        "print('MSE',mean_squared_error(y_test,rf_pred))"
      ],
      "metadata": {
        "colab": {
          "base_uri": "https://localhost:8080/"
        },
        "id": "lzmjL_CTLplD",
        "outputId": "e5ff26dc-8595-493e-f239-31a90b55b8b4"
      },
      "execution_count": 80,
      "outputs": [
        {
          "output_type": "stream",
          "name": "stdout",
          "text": [
            "MAE 1155.9326075090282\n",
            "MSE 3967699.938001475\n"
          ]
        }
      ]
    },
    {
      "cell_type": "code",
      "source": [
        "r2_score(y_test,rf_pred)"
      ],
      "metadata": {
        "colab": {
          "base_uri": "https://localhost:8080/"
        },
        "id": "Lel_sWZILr0d",
        "outputId": "b5567bc6-bcc1-40ce-d2e1-ec974703e47b"
      },
      "execution_count": 81,
      "outputs": [
        {
          "output_type": "execute_result",
          "data": {
            "text/plain": [
              "0.8067710794711381"
            ]
          },
          "metadata": {},
          "execution_count": 81
        }
      ]
    },
    {
      "cell_type": "code",
      "source": [
        "!pip install catboost"
      ],
      "metadata": {
        "colab": {
          "base_uri": "https://localhost:8080/"
        },
        "id": "Ul3X08mSL4Lx",
        "outputId": "45925751-6203-48b1-8a4b-d1dd47c13ea5"
      },
      "execution_count": 82,
      "outputs": [
        {
          "output_type": "stream",
          "name": "stdout",
          "text": [
            "Looking in indexes: https://pypi.org/simple, https://us-python.pkg.dev/colab-wheels/public/simple/\n",
            "Collecting catboost\n",
            "  Downloading catboost-1.0.6-cp37-none-manylinux1_x86_64.whl (76.6 MB)\n",
            "\u001b[K     |████████████████████████████████| 76.6 MB 1.3 MB/s \n",
            "\u001b[?25hRequirement already satisfied: graphviz in /usr/local/lib/python3.7/dist-packages (from catboost) (0.10.1)\n",
            "Requirement already satisfied: scipy in /usr/local/lib/python3.7/dist-packages (from catboost) (1.7.3)\n",
            "Requirement already satisfied: matplotlib in /usr/local/lib/python3.7/dist-packages (from catboost) (3.2.2)\n",
            "Requirement already satisfied: plotly in /usr/local/lib/python3.7/dist-packages (from catboost) (5.5.0)\n",
            "Requirement already satisfied: pandas>=0.24.0 in /usr/local/lib/python3.7/dist-packages (from catboost) (1.3.5)\n",
            "Requirement already satisfied: six in /usr/local/lib/python3.7/dist-packages (from catboost) (1.15.0)\n",
            "Requirement already satisfied: numpy>=1.16.0 in /usr/local/lib/python3.7/dist-packages (from catboost) (1.21.6)\n",
            "Requirement already satisfied: python-dateutil>=2.7.3 in /usr/local/lib/python3.7/dist-packages (from pandas>=0.24.0->catboost) (2.8.2)\n",
            "Requirement already satisfied: pytz>=2017.3 in /usr/local/lib/python3.7/dist-packages (from pandas>=0.24.0->catboost) (2022.2.1)\n",
            "Requirement already satisfied: cycler>=0.10 in /usr/local/lib/python3.7/dist-packages (from matplotlib->catboost) (0.11.0)\n",
            "Requirement already satisfied: pyparsing!=2.0.4,!=2.1.2,!=2.1.6,>=2.0.1 in /usr/local/lib/python3.7/dist-packages (from matplotlib->catboost) (3.0.9)\n",
            "Requirement already satisfied: kiwisolver>=1.0.1 in /usr/local/lib/python3.7/dist-packages (from matplotlib->catboost) (1.4.4)\n",
            "Requirement already satisfied: typing-extensions in /usr/local/lib/python3.7/dist-packages (from kiwisolver>=1.0.1->matplotlib->catboost) (4.1.1)\n",
            "Requirement already satisfied: tenacity>=6.2.0 in /usr/local/lib/python3.7/dist-packages (from plotly->catboost) (8.0.1)\n",
            "Installing collected packages: catboost\n",
            "Successfully installed catboost-1.0.6\n"
          ]
        }
      ]
    },
    {
      "cell_type": "code",
      "source": [
        "from catboost import CatBoostRegressor\n",
        "\n",
        "cat=CatBoostRegressor()\n",
        "cat.fit(X_train,y_train)"
      ],
      "metadata": {
        "colab": {
          "base_uri": "https://localhost:8080/"
        },
        "id": "jGeqYHJFMqah",
        "outputId": "b90c8cf9-d514-4b18-80c9-8d1b91c9530c"
      },
      "execution_count": 83,
      "outputs": [
        {
          "output_type": "stream",
          "name": "stdout",
          "text": [
            "Learning rate set to 0.057463\n",
            "0:\tlearn: 4465.7280757\ttotal: 47.5ms\tremaining: 47.5s\n",
            "1:\tlearn: 4317.7245126\ttotal: 49.1ms\tremaining: 24.5s\n",
            "2:\tlearn: 4167.9871081\ttotal: 50.8ms\tremaining: 16.9s\n",
            "3:\tlearn: 4030.4839609\ttotal: 52.5ms\tremaining: 13.1s\n",
            "4:\tlearn: 3906.4844760\ttotal: 54.1ms\tremaining: 10.8s\n",
            "5:\tlearn: 3785.4580402\ttotal: 55.7ms\tremaining: 9.23s\n",
            "6:\tlearn: 3673.8662552\ttotal: 57.6ms\tremaining: 8.17s\n",
            "7:\tlearn: 3582.0533069\ttotal: 59ms\tremaining: 7.31s\n",
            "8:\tlearn: 3495.5629367\ttotal: 60.7ms\tremaining: 6.68s\n",
            "9:\tlearn: 3404.7478335\ttotal: 62.4ms\tremaining: 6.18s\n",
            "10:\tlearn: 3325.1004431\ttotal: 63.7ms\tremaining: 5.73s\n",
            "11:\tlearn: 3254.1004651\ttotal: 64.9ms\tremaining: 5.35s\n",
            "12:\tlearn: 3184.6084064\ttotal: 66.2ms\tremaining: 5.03s\n",
            "13:\tlearn: 3122.3064005\ttotal: 67.4ms\tremaining: 4.75s\n",
            "14:\tlearn: 3067.6550706\ttotal: 68.8ms\tremaining: 4.51s\n",
            "15:\tlearn: 3014.5169632\ttotal: 70.2ms\tremaining: 4.32s\n",
            "16:\tlearn: 2962.4252595\ttotal: 71.7ms\tremaining: 4.14s\n",
            "17:\tlearn: 2920.1931240\ttotal: 73.1ms\tremaining: 3.99s\n",
            "18:\tlearn: 2877.4542155\ttotal: 75.8ms\tremaining: 3.92s\n",
            "19:\tlearn: 2836.6245798\ttotal: 77.6ms\tremaining: 3.8s\n",
            "20:\tlearn: 2795.6640990\ttotal: 79.7ms\tremaining: 3.71s\n",
            "21:\tlearn: 2762.1990538\ttotal: 82.1ms\tremaining: 3.65s\n",
            "22:\tlearn: 2727.9208771\ttotal: 83.6ms\tremaining: 3.55s\n",
            "23:\tlearn: 2696.1162679\ttotal: 85.1ms\tremaining: 3.46s\n",
            "24:\tlearn: 2667.2771566\ttotal: 86.6ms\tremaining: 3.38s\n",
            "25:\tlearn: 2643.7041952\ttotal: 88ms\tremaining: 3.3s\n",
            "26:\tlearn: 2620.3247888\ttotal: 89.5ms\tremaining: 3.22s\n",
            "27:\tlearn: 2598.7370952\ttotal: 90.9ms\tremaining: 3.15s\n",
            "28:\tlearn: 2574.8649008\ttotal: 92.4ms\tremaining: 3.09s\n",
            "29:\tlearn: 2552.8938076\ttotal: 93.9ms\tremaining: 3.03s\n",
            "30:\tlearn: 2535.4864413\ttotal: 95.3ms\tremaining: 2.98s\n",
            "31:\tlearn: 2516.7698332\ttotal: 96.7ms\tremaining: 2.93s\n",
            "32:\tlearn: 2498.8170112\ttotal: 98.2ms\tremaining: 2.88s\n",
            "33:\tlearn: 2486.8236752\ttotal: 99.6ms\tremaining: 2.83s\n",
            "34:\tlearn: 2477.3394868\ttotal: 101ms\tremaining: 2.79s\n",
            "35:\tlearn: 2464.0562980\ttotal: 103ms\tremaining: 2.75s\n",
            "36:\tlearn: 2448.5270397\ttotal: 104ms\tremaining: 2.71s\n",
            "37:\tlearn: 2436.8217449\ttotal: 105ms\tremaining: 2.67s\n",
            "38:\tlearn: 2424.4391048\ttotal: 107ms\tremaining: 2.63s\n",
            "39:\tlearn: 2415.6459023\ttotal: 108ms\tremaining: 2.6s\n",
            "40:\tlearn: 2406.0964751\ttotal: 110ms\tremaining: 2.57s\n",
            "41:\tlearn: 2393.8742177\ttotal: 111ms\tremaining: 2.53s\n",
            "42:\tlearn: 2382.4365188\ttotal: 113ms\tremaining: 2.5s\n",
            "43:\tlearn: 2370.4289366\ttotal: 114ms\tremaining: 2.48s\n",
            "44:\tlearn: 2359.2903311\ttotal: 115ms\tremaining: 2.45s\n",
            "45:\tlearn: 2353.6558567\ttotal: 117ms\tremaining: 2.42s\n",
            "46:\tlearn: 2345.4044111\ttotal: 118ms\tremaining: 2.4s\n",
            "47:\tlearn: 2335.5301779\ttotal: 120ms\tremaining: 2.38s\n",
            "48:\tlearn: 2330.7826322\ttotal: 121ms\tremaining: 2.35s\n",
            "49:\tlearn: 2321.1864216\ttotal: 123ms\tremaining: 2.33s\n",
            "50:\tlearn: 2313.2986029\ttotal: 124ms\tremaining: 2.31s\n",
            "51:\tlearn: 2307.6117185\ttotal: 126ms\tremaining: 2.29s\n",
            "52:\tlearn: 2301.3961730\ttotal: 127ms\tremaining: 2.27s\n",
            "53:\tlearn: 2294.3517169\ttotal: 129ms\tremaining: 2.25s\n",
            "54:\tlearn: 2286.6209598\ttotal: 130ms\tremaining: 2.23s\n",
            "55:\tlearn: 2278.8261647\ttotal: 131ms\tremaining: 2.21s\n",
            "56:\tlearn: 2274.1806199\ttotal: 133ms\tremaining: 2.2s\n",
            "57:\tlearn: 2267.5010929\ttotal: 134ms\tremaining: 2.18s\n",
            "58:\tlearn: 2261.4589527\ttotal: 136ms\tremaining: 2.16s\n",
            "59:\tlearn: 2255.9921223\ttotal: 137ms\tremaining: 2.15s\n",
            "60:\tlearn: 2249.4552343\ttotal: 139ms\tremaining: 2.13s\n",
            "61:\tlearn: 2244.6644634\ttotal: 140ms\tremaining: 2.12s\n",
            "62:\tlearn: 2238.9734365\ttotal: 141ms\tremaining: 2.1s\n",
            "63:\tlearn: 2234.9909927\ttotal: 143ms\tremaining: 2.09s\n",
            "64:\tlearn: 2231.1442896\ttotal: 144ms\tremaining: 2.08s\n",
            "65:\tlearn: 2226.5662708\ttotal: 146ms\tremaining: 2.06s\n",
            "66:\tlearn: 2219.7483791\ttotal: 147ms\tremaining: 2.05s\n",
            "67:\tlearn: 2216.2304285\ttotal: 149ms\tremaining: 2.04s\n",
            "68:\tlearn: 2213.0029269\ttotal: 150ms\tremaining: 2.03s\n",
            "69:\tlearn: 2209.9166932\ttotal: 153ms\tremaining: 2.04s\n",
            "70:\tlearn: 2203.9449162\ttotal: 156ms\tremaining: 2.04s\n",
            "71:\tlearn: 2197.3360911\ttotal: 158ms\tremaining: 2.04s\n",
            "72:\tlearn: 2193.1454818\ttotal: 162ms\tremaining: 2.05s\n",
            "73:\tlearn: 2191.3714829\ttotal: 165ms\tremaining: 2.06s\n",
            "74:\tlearn: 2187.2799783\ttotal: 166ms\tremaining: 2.05s\n",
            "75:\tlearn: 2184.9487788\ttotal: 168ms\tremaining: 2.04s\n",
            "76:\tlearn: 2180.5415792\ttotal: 169ms\tremaining: 2.02s\n",
            "77:\tlearn: 2174.7030474\ttotal: 170ms\tremaining: 2.01s\n",
            "78:\tlearn: 2171.6711621\ttotal: 171ms\tremaining: 2s\n",
            "79:\tlearn: 2168.7820825\ttotal: 173ms\tremaining: 1.99s\n",
            "80:\tlearn: 2166.3097499\ttotal: 174ms\tremaining: 1.97s\n",
            "81:\tlearn: 2163.5093344\ttotal: 175ms\tremaining: 1.96s\n",
            "82:\tlearn: 2160.6405708\ttotal: 176ms\tremaining: 1.95s\n",
            "83:\tlearn: 2155.5610777\ttotal: 178ms\tremaining: 1.94s\n",
            "84:\tlearn: 2151.1650726\ttotal: 179ms\tremaining: 1.93s\n",
            "85:\tlearn: 2149.7702700\ttotal: 180ms\tremaining: 1.91s\n",
            "86:\tlearn: 2146.0709542\ttotal: 181ms\tremaining: 1.9s\n",
            "87:\tlearn: 2142.8669614\ttotal: 184ms\tremaining: 1.91s\n",
            "88:\tlearn: 2140.2125861\ttotal: 186ms\tremaining: 1.9s\n",
            "89:\tlearn: 2136.8289963\ttotal: 187ms\tremaining: 1.89s\n",
            "90:\tlearn: 2134.4213461\ttotal: 188ms\tremaining: 1.88s\n",
            "91:\tlearn: 2130.2947106\ttotal: 190ms\tremaining: 1.87s\n",
            "92:\tlearn: 2125.6762707\ttotal: 191ms\tremaining: 1.86s\n",
            "93:\tlearn: 2121.9653594\ttotal: 193ms\tremaining: 1.86s\n",
            "94:\tlearn: 2116.8091629\ttotal: 194ms\tremaining: 1.85s\n",
            "95:\tlearn: 2115.5022262\ttotal: 196ms\tremaining: 1.84s\n",
            "96:\tlearn: 2112.9830571\ttotal: 197ms\tremaining: 1.83s\n",
            "97:\tlearn: 2109.5443737\ttotal: 199ms\tremaining: 1.83s\n",
            "98:\tlearn: 2105.7973532\ttotal: 200ms\tremaining: 1.82s\n",
            "99:\tlearn: 2101.2037661\ttotal: 202ms\tremaining: 1.81s\n",
            "100:\tlearn: 2096.1113779\ttotal: 203ms\tremaining: 1.81s\n",
            "101:\tlearn: 2094.0045045\ttotal: 204ms\tremaining: 1.8s\n",
            "102:\tlearn: 2091.3247216\ttotal: 206ms\tremaining: 1.79s\n",
            "103:\tlearn: 2086.9048284\ttotal: 208ms\tremaining: 1.79s\n",
            "104:\tlearn: 2082.7266963\ttotal: 209ms\tremaining: 1.78s\n",
            "105:\tlearn: 2079.8091016\ttotal: 210ms\tremaining: 1.77s\n",
            "106:\tlearn: 2075.5102216\ttotal: 212ms\tremaining: 1.77s\n",
            "107:\tlearn: 2073.4945720\ttotal: 214ms\tremaining: 1.76s\n",
            "108:\tlearn: 2069.3783146\ttotal: 215ms\tremaining: 1.76s\n",
            "109:\tlearn: 2065.3296881\ttotal: 217ms\tremaining: 1.75s\n",
            "110:\tlearn: 2063.9820739\ttotal: 218ms\tremaining: 1.75s\n",
            "111:\tlearn: 2060.6653369\ttotal: 220ms\tremaining: 1.74s\n",
            "112:\tlearn: 2058.9501335\ttotal: 221ms\tremaining: 1.74s\n",
            "113:\tlearn: 2056.4421971\ttotal: 223ms\tremaining: 1.73s\n",
            "114:\tlearn: 2055.3227016\ttotal: 224ms\tremaining: 1.72s\n",
            "115:\tlearn: 2050.9968075\ttotal: 226ms\tremaining: 1.72s\n",
            "116:\tlearn: 2047.7938564\ttotal: 227ms\tremaining: 1.71s\n",
            "117:\tlearn: 2044.4858936\ttotal: 229ms\tremaining: 1.71s\n",
            "118:\tlearn: 2041.0867610\ttotal: 230ms\tremaining: 1.7s\n",
            "119:\tlearn: 2040.2085227\ttotal: 231ms\tremaining: 1.7s\n",
            "120:\tlearn: 2038.0143889\ttotal: 233ms\tremaining: 1.69s\n",
            "121:\tlearn: 2035.1904591\ttotal: 234ms\tremaining: 1.69s\n",
            "122:\tlearn: 2033.3851679\ttotal: 236ms\tremaining: 1.68s\n",
            "123:\tlearn: 2030.1091356\ttotal: 237ms\tremaining: 1.68s\n",
            "124:\tlearn: 2029.5564205\ttotal: 239ms\tremaining: 1.67s\n",
            "125:\tlearn: 2026.1337658\ttotal: 240ms\tremaining: 1.67s\n",
            "126:\tlearn: 2025.0189836\ttotal: 242ms\tremaining: 1.66s\n",
            "127:\tlearn: 2021.9200815\ttotal: 243ms\tremaining: 1.66s\n",
            "128:\tlearn: 2019.5114583\ttotal: 245ms\tremaining: 1.65s\n",
            "129:\tlearn: 2017.2751331\ttotal: 246ms\tremaining: 1.65s\n",
            "130:\tlearn: 2015.0969983\ttotal: 248ms\tremaining: 1.64s\n",
            "131:\tlearn: 2013.0569794\ttotal: 249ms\tremaining: 1.64s\n",
            "132:\tlearn: 2010.2906436\ttotal: 251ms\tremaining: 1.64s\n",
            "133:\tlearn: 2007.6481717\ttotal: 252ms\tremaining: 1.63s\n",
            "134:\tlearn: 2002.9492022\ttotal: 254ms\tremaining: 1.63s\n",
            "135:\tlearn: 2002.1875658\ttotal: 255ms\tremaining: 1.62s\n",
            "136:\tlearn: 1998.9796537\ttotal: 257ms\tremaining: 1.62s\n",
            "137:\tlearn: 1996.2053889\ttotal: 258ms\tremaining: 1.61s\n",
            "138:\tlearn: 1992.7798962\ttotal: 260ms\tremaining: 1.61s\n",
            "139:\tlearn: 1990.1673673\ttotal: 261ms\tremaining: 1.6s\n",
            "140:\tlearn: 1988.2813410\ttotal: 263ms\tremaining: 1.6s\n",
            "141:\tlearn: 1985.9634337\ttotal: 264ms\tremaining: 1.6s\n",
            "142:\tlearn: 1984.9852760\ttotal: 266ms\tremaining: 1.59s\n",
            "143:\tlearn: 1981.5611632\ttotal: 267ms\tremaining: 1.59s\n",
            "144:\tlearn: 1980.3403023\ttotal: 268ms\tremaining: 1.58s\n",
            "145:\tlearn: 1979.1728709\ttotal: 270ms\tremaining: 1.58s\n",
            "146:\tlearn: 1977.9352153\ttotal: 271ms\tremaining: 1.57s\n",
            "147:\tlearn: 1976.1491781\ttotal: 273ms\tremaining: 1.57s\n",
            "148:\tlearn: 1973.2055101\ttotal: 275ms\tremaining: 1.57s\n",
            "149:\tlearn: 1972.6745770\ttotal: 276ms\tremaining: 1.56s\n",
            "150:\tlearn: 1971.0950286\ttotal: 277ms\tremaining: 1.56s\n",
            "151:\tlearn: 1967.9828151\ttotal: 279ms\tremaining: 1.55s\n",
            "152:\tlearn: 1966.0746288\ttotal: 280ms\tremaining: 1.55s\n",
            "153:\tlearn: 1964.4106851\ttotal: 282ms\tremaining: 1.55s\n",
            "154:\tlearn: 1961.8503286\ttotal: 283ms\tremaining: 1.54s\n",
            "155:\tlearn: 1959.7518765\ttotal: 285ms\tremaining: 1.54s\n",
            "156:\tlearn: 1957.0720669\ttotal: 286ms\tremaining: 1.54s\n",
            "157:\tlearn: 1956.0090587\ttotal: 288ms\tremaining: 1.53s\n",
            "158:\tlearn: 1952.8394795\ttotal: 289ms\tremaining: 1.53s\n",
            "159:\tlearn: 1950.8397618\ttotal: 291ms\tremaining: 1.52s\n",
            "160:\tlearn: 1949.3290804\ttotal: 292ms\tremaining: 1.52s\n",
            "161:\tlearn: 1946.4694596\ttotal: 293ms\tremaining: 1.52s\n",
            "162:\tlearn: 1944.3492457\ttotal: 295ms\tremaining: 1.51s\n",
            "163:\tlearn: 1941.8469579\ttotal: 296ms\tremaining: 1.51s\n",
            "164:\tlearn: 1940.3896175\ttotal: 298ms\tremaining: 1.51s\n",
            "165:\tlearn: 1937.7974607\ttotal: 299ms\tremaining: 1.5s\n",
            "166:\tlearn: 1935.7148974\ttotal: 301ms\tremaining: 1.5s\n",
            "167:\tlearn: 1932.3134674\ttotal: 302ms\tremaining: 1.5s\n",
            "168:\tlearn: 1930.5614717\ttotal: 304ms\tremaining: 1.49s\n",
            "169:\tlearn: 1929.4656497\ttotal: 306ms\tremaining: 1.49s\n",
            "170:\tlearn: 1927.7647084\ttotal: 308ms\tremaining: 1.49s\n",
            "171:\tlearn: 1926.5870153\ttotal: 311ms\tremaining: 1.5s\n",
            "172:\tlearn: 1925.5010876\ttotal: 313ms\tremaining: 1.5s\n",
            "173:\tlearn: 1924.0349513\ttotal: 315ms\tremaining: 1.5s\n",
            "174:\tlearn: 1921.8799425\ttotal: 316ms\tremaining: 1.49s\n",
            "175:\tlearn: 1919.9229413\ttotal: 318ms\tremaining: 1.49s\n",
            "176:\tlearn: 1919.0135109\ttotal: 319ms\tremaining: 1.48s\n",
            "177:\tlearn: 1917.0102157\ttotal: 321ms\tremaining: 1.48s\n",
            "178:\tlearn: 1914.5686236\ttotal: 322ms\tremaining: 1.48s\n",
            "179:\tlearn: 1912.4008242\ttotal: 323ms\tremaining: 1.47s\n",
            "180:\tlearn: 1909.3596736\ttotal: 325ms\tremaining: 1.47s\n",
            "181:\tlearn: 1906.4143993\ttotal: 326ms\tremaining: 1.47s\n",
            "182:\tlearn: 1905.0535079\ttotal: 328ms\tremaining: 1.46s\n",
            "183:\tlearn: 1902.8146373\ttotal: 329ms\tremaining: 1.46s\n",
            "184:\tlearn: 1901.7193607\ttotal: 331ms\tremaining: 1.46s\n",
            "185:\tlearn: 1899.7272699\ttotal: 332ms\tremaining: 1.45s\n",
            "186:\tlearn: 1898.5304244\ttotal: 334ms\tremaining: 1.45s\n",
            "187:\tlearn: 1897.0739098\ttotal: 335ms\tremaining: 1.45s\n",
            "188:\tlearn: 1894.5016873\ttotal: 337ms\tremaining: 1.44s\n",
            "189:\tlearn: 1892.5209273\ttotal: 338ms\tremaining: 1.44s\n",
            "190:\tlearn: 1890.9588410\ttotal: 340ms\tremaining: 1.44s\n",
            "191:\tlearn: 1889.7128491\ttotal: 341ms\tremaining: 1.43s\n",
            "192:\tlearn: 1888.8885955\ttotal: 342ms\tremaining: 1.43s\n",
            "193:\tlearn: 1888.0018393\ttotal: 344ms\tremaining: 1.43s\n",
            "194:\tlearn: 1887.0114729\ttotal: 345ms\tremaining: 1.42s\n",
            "195:\tlearn: 1886.1149584\ttotal: 347ms\tremaining: 1.42s\n",
            "196:\tlearn: 1885.0633608\ttotal: 348ms\tremaining: 1.42s\n",
            "197:\tlearn: 1883.5795929\ttotal: 350ms\tremaining: 1.42s\n",
            "198:\tlearn: 1881.4375386\ttotal: 351ms\tremaining: 1.41s\n",
            "199:\tlearn: 1880.6406972\ttotal: 352ms\tremaining: 1.41s\n",
            "200:\tlearn: 1879.1601652\ttotal: 354ms\tremaining: 1.41s\n",
            "201:\tlearn: 1878.3766642\ttotal: 355ms\tremaining: 1.4s\n",
            "202:\tlearn: 1874.8103918\ttotal: 357ms\tremaining: 1.4s\n",
            "203:\tlearn: 1873.2498095\ttotal: 358ms\tremaining: 1.4s\n",
            "204:\tlearn: 1872.0468481\ttotal: 360ms\tremaining: 1.4s\n",
            "205:\tlearn: 1869.6479288\ttotal: 361ms\tremaining: 1.39s\n",
            "206:\tlearn: 1867.8143121\ttotal: 363ms\tremaining: 1.39s\n",
            "207:\tlearn: 1865.5481925\ttotal: 364ms\tremaining: 1.39s\n",
            "208:\tlearn: 1863.4857240\ttotal: 365ms\tremaining: 1.38s\n",
            "209:\tlearn: 1862.5966715\ttotal: 367ms\tremaining: 1.38s\n",
            "210:\tlearn: 1860.7174603\ttotal: 368ms\tremaining: 1.38s\n",
            "211:\tlearn: 1860.0684077\ttotal: 369ms\tremaining: 1.37s\n",
            "212:\tlearn: 1859.5940507\ttotal: 372ms\tremaining: 1.37s\n",
            "213:\tlearn: 1859.1156181\ttotal: 375ms\tremaining: 1.38s\n",
            "214:\tlearn: 1857.8917707\ttotal: 376ms\tremaining: 1.37s\n",
            "215:\tlearn: 1854.9933960\ttotal: 377ms\tremaining: 1.37s\n",
            "216:\tlearn: 1854.4600622\ttotal: 379ms\tremaining: 1.37s\n",
            "217:\tlearn: 1853.3372131\ttotal: 380ms\tremaining: 1.36s\n",
            "218:\tlearn: 1853.0739862\ttotal: 381ms\tremaining: 1.36s\n",
            "219:\tlearn: 1850.9067699\ttotal: 382ms\tremaining: 1.35s\n",
            "220:\tlearn: 1850.7403740\ttotal: 383ms\tremaining: 1.35s\n",
            "221:\tlearn: 1850.4713084\ttotal: 385ms\tremaining: 1.35s\n",
            "222:\tlearn: 1849.4055094\ttotal: 386ms\tremaining: 1.34s\n",
            "223:\tlearn: 1847.9288404\ttotal: 388ms\tremaining: 1.34s\n",
            "224:\tlearn: 1847.2381811\ttotal: 391ms\tremaining: 1.34s\n",
            "225:\tlearn: 1847.0286416\ttotal: 392ms\tremaining: 1.34s\n",
            "226:\tlearn: 1845.0009660\ttotal: 394ms\tremaining: 1.34s\n",
            "227:\tlearn: 1843.8117526\ttotal: 396ms\tremaining: 1.34s\n",
            "228:\tlearn: 1842.1997498\ttotal: 397ms\tremaining: 1.34s\n",
            "229:\tlearn: 1842.0481530\ttotal: 398ms\tremaining: 1.33s\n",
            "230:\tlearn: 1838.9875108\ttotal: 400ms\tremaining: 1.33s\n",
            "231:\tlearn: 1838.6110226\ttotal: 401ms\tremaining: 1.33s\n",
            "232:\tlearn: 1838.5035448\ttotal: 403ms\tremaining: 1.33s\n",
            "233:\tlearn: 1838.3418898\ttotal: 404ms\tremaining: 1.32s\n",
            "234:\tlearn: 1838.2935627\ttotal: 405ms\tremaining: 1.32s\n",
            "235:\tlearn: 1836.0108776\ttotal: 407ms\tremaining: 1.32s\n",
            "236:\tlearn: 1835.3309100\ttotal: 408ms\tremaining: 1.31s\n",
            "237:\tlearn: 1835.2070778\ttotal: 410ms\tremaining: 1.31s\n",
            "238:\tlearn: 1834.7763708\ttotal: 411ms\tremaining: 1.31s\n",
            "239:\tlearn: 1832.7366678\ttotal: 413ms\tremaining: 1.31s\n",
            "240:\tlearn: 1830.9012081\ttotal: 414ms\tremaining: 1.3s\n",
            "241:\tlearn: 1830.4631658\ttotal: 416ms\tremaining: 1.3s\n",
            "242:\tlearn: 1829.1049385\ttotal: 418ms\tremaining: 1.3s\n",
            "243:\tlearn: 1827.2710450\ttotal: 420ms\tremaining: 1.3s\n",
            "244:\tlearn: 1825.5558309\ttotal: 423ms\tremaining: 1.3s\n",
            "245:\tlearn: 1824.1903451\ttotal: 424ms\tremaining: 1.3s\n",
            "246:\tlearn: 1823.0245569\ttotal: 426ms\tremaining: 1.3s\n",
            "247:\tlearn: 1821.0847283\ttotal: 428ms\tremaining: 1.3s\n",
            "248:\tlearn: 1819.4291339\ttotal: 431ms\tremaining: 1.3s\n",
            "249:\tlearn: 1819.2119762\ttotal: 432ms\tremaining: 1.29s\n",
            "250:\tlearn: 1817.1321301\ttotal: 433ms\tremaining: 1.29s\n",
            "251:\tlearn: 1816.9862715\ttotal: 434ms\tremaining: 1.29s\n",
            "252:\tlearn: 1815.5547028\ttotal: 436ms\tremaining: 1.29s\n",
            "253:\tlearn: 1814.3193797\ttotal: 437ms\tremaining: 1.28s\n",
            "254:\tlearn: 1814.2021359\ttotal: 439ms\tremaining: 1.28s\n",
            "255:\tlearn: 1811.9162371\ttotal: 440ms\tremaining: 1.28s\n",
            "256:\tlearn: 1811.0476624\ttotal: 442ms\tremaining: 1.28s\n",
            "257:\tlearn: 1809.1593357\ttotal: 443ms\tremaining: 1.27s\n",
            "258:\tlearn: 1809.0449007\ttotal: 445ms\tremaining: 1.27s\n",
            "259:\tlearn: 1807.7017705\ttotal: 446ms\tremaining: 1.27s\n",
            "260:\tlearn: 1807.5599805\ttotal: 447ms\tremaining: 1.27s\n",
            "261:\tlearn: 1805.6507767\ttotal: 449ms\tremaining: 1.26s\n",
            "262:\tlearn: 1804.1716346\ttotal: 450ms\tremaining: 1.26s\n",
            "263:\tlearn: 1802.4741327\ttotal: 452ms\tremaining: 1.26s\n",
            "264:\tlearn: 1801.1570167\ttotal: 453ms\tremaining: 1.26s\n",
            "265:\tlearn: 1799.3080056\ttotal: 455ms\tremaining: 1.25s\n",
            "266:\tlearn: 1797.9374610\ttotal: 456ms\tremaining: 1.25s\n",
            "267:\tlearn: 1795.8991266\ttotal: 458ms\tremaining: 1.25s\n",
            "268:\tlearn: 1794.8340144\ttotal: 459ms\tremaining: 1.25s\n",
            "269:\tlearn: 1793.0383335\ttotal: 461ms\tremaining: 1.25s\n",
            "270:\tlearn: 1791.9696124\ttotal: 462ms\tremaining: 1.24s\n",
            "271:\tlearn: 1791.8616554\ttotal: 463ms\tremaining: 1.24s\n",
            "272:\tlearn: 1790.4101349\ttotal: 465ms\tremaining: 1.24s\n",
            "273:\tlearn: 1789.3336525\ttotal: 466ms\tremaining: 1.23s\n",
            "274:\tlearn: 1788.4952927\ttotal: 468ms\tremaining: 1.23s\n",
            "275:\tlearn: 1788.3814588\ttotal: 469ms\tremaining: 1.23s\n",
            "276:\tlearn: 1787.1186933\ttotal: 470ms\tremaining: 1.23s\n",
            "277:\tlearn: 1786.3356947\ttotal: 472ms\tremaining: 1.23s\n",
            "278:\tlearn: 1786.1526517\ttotal: 473ms\tremaining: 1.22s\n",
            "279:\tlearn: 1785.1333957\ttotal: 475ms\tremaining: 1.22s\n",
            "280:\tlearn: 1784.0076210\ttotal: 477ms\tremaining: 1.22s\n",
            "281:\tlearn: 1782.2473166\ttotal: 478ms\tremaining: 1.22s\n",
            "282:\tlearn: 1782.0317952\ttotal: 480ms\tremaining: 1.22s\n",
            "283:\tlearn: 1780.6791621\ttotal: 481ms\tremaining: 1.21s\n",
            "284:\tlearn: 1779.2290150\ttotal: 483ms\tremaining: 1.21s\n",
            "285:\tlearn: 1777.9036426\ttotal: 484ms\tremaining: 1.21s\n",
            "286:\tlearn: 1777.6957933\ttotal: 486ms\tremaining: 1.21s\n",
            "287:\tlearn: 1776.7105990\ttotal: 487ms\tremaining: 1.2s\n",
            "288:\tlearn: 1775.8126421\ttotal: 489ms\tremaining: 1.2s\n",
            "289:\tlearn: 1774.2654787\ttotal: 490ms\tremaining: 1.2s\n",
            "290:\tlearn: 1774.1291799\ttotal: 492ms\tremaining: 1.2s\n",
            "291:\tlearn: 1774.1115402\ttotal: 493ms\tremaining: 1.2s\n",
            "292:\tlearn: 1772.8847764\ttotal: 494ms\tremaining: 1.19s\n",
            "293:\tlearn: 1771.5300747\ttotal: 496ms\tremaining: 1.19s\n",
            "294:\tlearn: 1770.2390578\ttotal: 497ms\tremaining: 1.19s\n",
            "295:\tlearn: 1768.1826448\ttotal: 499ms\tremaining: 1.19s\n",
            "296:\tlearn: 1768.1512755\ttotal: 500ms\tremaining: 1.18s\n",
            "297:\tlearn: 1768.0329528\ttotal: 501ms\tremaining: 1.18s\n",
            "298:\tlearn: 1766.7744361\ttotal: 503ms\tremaining: 1.18s\n",
            "299:\tlearn: 1765.7499793\ttotal: 504ms\tremaining: 1.18s\n",
            "300:\tlearn: 1764.8336746\ttotal: 506ms\tremaining: 1.17s\n",
            "301:\tlearn: 1763.9656060\ttotal: 507ms\tremaining: 1.17s\n",
            "302:\tlearn: 1762.4680593\ttotal: 509ms\tremaining: 1.17s\n",
            "303:\tlearn: 1761.8250392\ttotal: 510ms\tremaining: 1.17s\n",
            "304:\tlearn: 1761.2274411\ttotal: 512ms\tremaining: 1.17s\n",
            "305:\tlearn: 1760.0687037\ttotal: 513ms\tremaining: 1.16s\n",
            "306:\tlearn: 1759.0731914\ttotal: 515ms\tremaining: 1.16s\n",
            "307:\tlearn: 1757.5221095\ttotal: 516ms\tremaining: 1.16s\n",
            "308:\tlearn: 1756.3239315\ttotal: 518ms\tremaining: 1.16s\n",
            "309:\tlearn: 1756.2945560\ttotal: 519ms\tremaining: 1.16s\n",
            "310:\tlearn: 1755.8744273\ttotal: 521ms\tremaining: 1.15s\n",
            "311:\tlearn: 1755.8575863\ttotal: 522ms\tremaining: 1.15s\n",
            "312:\tlearn: 1755.2556875\ttotal: 523ms\tremaining: 1.15s\n",
            "313:\tlearn: 1753.4561591\ttotal: 525ms\tremaining: 1.15s\n",
            "314:\tlearn: 1752.0728329\ttotal: 526ms\tremaining: 1.14s\n",
            "315:\tlearn: 1751.1911504\ttotal: 528ms\tremaining: 1.14s\n",
            "316:\tlearn: 1749.9997407\ttotal: 529ms\tremaining: 1.14s\n",
            "317:\tlearn: 1748.7475122\ttotal: 531ms\tremaining: 1.14s\n",
            "318:\tlearn: 1746.7967667\ttotal: 532ms\tremaining: 1.14s\n",
            "319:\tlearn: 1746.7807749\ttotal: 534ms\tremaining: 1.13s\n",
            "320:\tlearn: 1745.8532432\ttotal: 535ms\tremaining: 1.13s\n",
            "321:\tlearn: 1745.8278267\ttotal: 536ms\tremaining: 1.13s\n",
            "322:\tlearn: 1745.0431317\ttotal: 538ms\tremaining: 1.13s\n",
            "323:\tlearn: 1743.8420783\ttotal: 539ms\tremaining: 1.13s\n",
            "324:\tlearn: 1742.8932883\ttotal: 541ms\tremaining: 1.12s\n",
            "325:\tlearn: 1741.1542220\ttotal: 542ms\tremaining: 1.12s\n",
            "326:\tlearn: 1740.0014580\ttotal: 544ms\tremaining: 1.12s\n",
            "327:\tlearn: 1738.9456619\ttotal: 545ms\tremaining: 1.12s\n",
            "328:\tlearn: 1738.8634142\ttotal: 546ms\tremaining: 1.11s\n",
            "329:\tlearn: 1738.0215279\ttotal: 548ms\tremaining: 1.11s\n",
            "330:\tlearn: 1738.0045672\ttotal: 549ms\tremaining: 1.11s\n",
            "331:\tlearn: 1736.8836345\ttotal: 550ms\tremaining: 1.11s\n",
            "332:\tlearn: 1734.9438421\ttotal: 552ms\tremaining: 1.1s\n",
            "333:\tlearn: 1733.7663980\ttotal: 553ms\tremaining: 1.1s\n",
            "334:\tlearn: 1733.7502070\ttotal: 556ms\tremaining: 1.1s\n",
            "335:\tlearn: 1731.9563686\ttotal: 561ms\tremaining: 1.11s\n",
            "336:\tlearn: 1730.6458723\ttotal: 563ms\tremaining: 1.11s\n",
            "337:\tlearn: 1729.5742529\ttotal: 564ms\tremaining: 1.1s\n",
            "338:\tlearn: 1728.1147530\ttotal: 566ms\tremaining: 1.1s\n",
            "339:\tlearn: 1726.8427007\ttotal: 571ms\tremaining: 1.11s\n",
            "340:\tlearn: 1725.5289298\ttotal: 574ms\tremaining: 1.11s\n",
            "341:\tlearn: 1725.5131812\ttotal: 576ms\tremaining: 1.11s\n",
            "342:\tlearn: 1724.5684496\ttotal: 577ms\tremaining: 1.1s\n",
            "343:\tlearn: 1723.4357272\ttotal: 579ms\tremaining: 1.1s\n",
            "344:\tlearn: 1722.4498462\ttotal: 580ms\tremaining: 1.1s\n",
            "345:\tlearn: 1721.3726857\ttotal: 582ms\tremaining: 1.1s\n",
            "346:\tlearn: 1720.8368740\ttotal: 583ms\tremaining: 1.1s\n",
            "347:\tlearn: 1719.7146510\ttotal: 585ms\tremaining: 1.09s\n",
            "348:\tlearn: 1719.7013755\ttotal: 586ms\tremaining: 1.09s\n",
            "349:\tlearn: 1717.9139412\ttotal: 587ms\tremaining: 1.09s\n",
            "350:\tlearn: 1716.6319333\ttotal: 589ms\tremaining: 1.09s\n",
            "351:\tlearn: 1715.3656102\ttotal: 590ms\tremaining: 1.09s\n",
            "352:\tlearn: 1714.1619117\ttotal: 592ms\tremaining: 1.08s\n",
            "353:\tlearn: 1713.1035883\ttotal: 593ms\tremaining: 1.08s\n",
            "354:\tlearn: 1712.4061526\ttotal: 595ms\tremaining: 1.08s\n",
            "355:\tlearn: 1710.1710065\ttotal: 596ms\tremaining: 1.08s\n",
            "356:\tlearn: 1709.0674602\ttotal: 598ms\tremaining: 1.08s\n",
            "357:\tlearn: 1707.7016278\ttotal: 599ms\tremaining: 1.07s\n",
            "358:\tlearn: 1707.0025113\ttotal: 601ms\tremaining: 1.07s\n",
            "359:\tlearn: 1706.1628396\ttotal: 602ms\tremaining: 1.07s\n",
            "360:\tlearn: 1706.1471778\ttotal: 603ms\tremaining: 1.07s\n",
            "361:\tlearn: 1705.1177194\ttotal: 605ms\tremaining: 1.07s\n",
            "362:\tlearn: 1705.0967421\ttotal: 606ms\tremaining: 1.06s\n",
            "363:\tlearn: 1704.4432779\ttotal: 608ms\tremaining: 1.06s\n",
            "364:\tlearn: 1704.4307330\ttotal: 609ms\tremaining: 1.06s\n",
            "365:\tlearn: 1703.9306631\ttotal: 610ms\tremaining: 1.06s\n",
            "366:\tlearn: 1703.4921726\ttotal: 612ms\tremaining: 1.05s\n",
            "367:\tlearn: 1702.6774969\ttotal: 613ms\tremaining: 1.05s\n",
            "368:\tlearn: 1701.7522479\ttotal: 615ms\tremaining: 1.05s\n",
            "369:\tlearn: 1700.7823371\ttotal: 616ms\tremaining: 1.05s\n",
            "370:\tlearn: 1700.7676271\ttotal: 617ms\tremaining: 1.05s\n",
            "371:\tlearn: 1700.7534364\ttotal: 619ms\tremaining: 1.04s\n",
            "372:\tlearn: 1699.8759752\ttotal: 620ms\tremaining: 1.04s\n",
            "373:\tlearn: 1699.1910794\ttotal: 622ms\tremaining: 1.04s\n",
            "374:\tlearn: 1698.2520099\ttotal: 623ms\tremaining: 1.04s\n",
            "375:\tlearn: 1698.2160086\ttotal: 624ms\tremaining: 1.04s\n",
            "376:\tlearn: 1697.3944714\ttotal: 626ms\tremaining: 1.03s\n",
            "377:\tlearn: 1696.2230769\ttotal: 627ms\tremaining: 1.03s\n",
            "378:\tlearn: 1695.1074029\ttotal: 629ms\tremaining: 1.03s\n",
            "379:\tlearn: 1693.8210413\ttotal: 630ms\tremaining: 1.03s\n",
            "380:\tlearn: 1692.8050738\ttotal: 632ms\tremaining: 1.03s\n",
            "381:\tlearn: 1692.2565361\ttotal: 633ms\tremaining: 1.02s\n",
            "382:\tlearn: 1690.7293836\ttotal: 634ms\tremaining: 1.02s\n",
            "383:\tlearn: 1689.4477046\ttotal: 636ms\tremaining: 1.02s\n",
            "384:\tlearn: 1689.4345475\ttotal: 637ms\tremaining: 1.02s\n",
            "385:\tlearn: 1688.3047188\ttotal: 638ms\tremaining: 1.01s\n",
            "386:\tlearn: 1687.3647544\ttotal: 640ms\tremaining: 1.01s\n",
            "387:\tlearn: 1686.8507705\ttotal: 641ms\tremaining: 1.01s\n",
            "388:\tlearn: 1685.8128703\ttotal: 643ms\tremaining: 1.01s\n",
            "389:\tlearn: 1684.8767186\ttotal: 644ms\tremaining: 1.01s\n",
            "390:\tlearn: 1683.4689024\ttotal: 646ms\tremaining: 1s\n",
            "391:\tlearn: 1682.5854198\ttotal: 647ms\tremaining: 1s\n",
            "392:\tlearn: 1681.7591755\ttotal: 649ms\tremaining: 1s\n",
            "393:\tlearn: 1680.9414964\ttotal: 650ms\tremaining: 1000ms\n",
            "394:\tlearn: 1680.2388543\ttotal: 652ms\tremaining: 998ms\n",
            "395:\tlearn: 1678.9097571\ttotal: 653ms\tremaining: 996ms\n",
            "396:\tlearn: 1678.3900821\ttotal: 654ms\tremaining: 994ms\n",
            "397:\tlearn: 1677.7496669\ttotal: 656ms\tremaining: 992ms\n",
            "398:\tlearn: 1676.2792415\ttotal: 657ms\tremaining: 990ms\n",
            "399:\tlearn: 1675.1193211\ttotal: 659ms\tremaining: 988ms\n",
            "400:\tlearn: 1674.4968940\ttotal: 660ms\tremaining: 986ms\n",
            "401:\tlearn: 1673.3296305\ttotal: 662ms\tremaining: 984ms\n",
            "402:\tlearn: 1672.0425386\ttotal: 663ms\tremaining: 982ms\n",
            "403:\tlearn: 1671.2877021\ttotal: 665ms\tremaining: 980ms\n",
            "404:\tlearn: 1670.3984515\ttotal: 666ms\tremaining: 978ms\n",
            "405:\tlearn: 1669.8135354\ttotal: 667ms\tremaining: 976ms\n",
            "406:\tlearn: 1669.0710780\ttotal: 669ms\tremaining: 974ms\n",
            "407:\tlearn: 1668.3531795\ttotal: 671ms\tremaining: 973ms\n",
            "408:\tlearn: 1667.5861979\ttotal: 673ms\tremaining: 972ms\n",
            "409:\tlearn: 1666.7194736\ttotal: 674ms\tremaining: 970ms\n",
            "410:\tlearn: 1666.7067321\ttotal: 675ms\tremaining: 968ms\n",
            "411:\tlearn: 1665.5592947\ttotal: 677ms\tremaining: 966ms\n",
            "412:\tlearn: 1665.1062650\ttotal: 678ms\tremaining: 964ms\n",
            "413:\tlearn: 1663.9251329\ttotal: 680ms\tremaining: 962ms\n",
            "414:\tlearn: 1663.9129314\ttotal: 681ms\tremaining: 960ms\n",
            "415:\tlearn: 1663.9020208\ttotal: 682ms\tremaining: 958ms\n",
            "416:\tlearn: 1663.1137638\ttotal: 684ms\tremaining: 956ms\n",
            "417:\tlearn: 1662.3663975\ttotal: 685ms\tremaining: 954ms\n",
            "418:\tlearn: 1661.1257343\ttotal: 687ms\tremaining: 952ms\n",
            "419:\tlearn: 1659.6847457\ttotal: 688ms\tremaining: 950ms\n",
            "420:\tlearn: 1659.6733069\ttotal: 689ms\tremaining: 948ms\n",
            "421:\tlearn: 1658.6095493\ttotal: 691ms\tremaining: 946ms\n",
            "422:\tlearn: 1658.1486583\ttotal: 692ms\tremaining: 944ms\n",
            "423:\tlearn: 1657.5413374\ttotal: 694ms\tremaining: 943ms\n",
            "424:\tlearn: 1656.8117753\ttotal: 695ms\tremaining: 941ms\n",
            "425:\tlearn: 1655.9527989\ttotal: 697ms\tremaining: 939ms\n",
            "426:\tlearn: 1655.8936752\ttotal: 698ms\tremaining: 937ms\n",
            "427:\tlearn: 1655.8758078\ttotal: 699ms\tremaining: 935ms\n",
            "428:\tlearn: 1655.3914614\ttotal: 701ms\tremaining: 933ms\n",
            "429:\tlearn: 1654.8376252\ttotal: 702ms\tremaining: 931ms\n",
            "430:\tlearn: 1653.6113151\ttotal: 704ms\tremaining: 929ms\n",
            "431:\tlearn: 1653.6033846\ttotal: 705ms\tremaining: 927ms\n",
            "432:\tlearn: 1652.7640563\ttotal: 707ms\tremaining: 925ms\n",
            "433:\tlearn: 1652.0148406\ttotal: 708ms\tremaining: 924ms\n",
            "434:\tlearn: 1651.2424217\ttotal: 710ms\tremaining: 922ms\n",
            "435:\tlearn: 1649.0734823\ttotal: 711ms\tremaining: 920ms\n",
            "436:\tlearn: 1647.9706188\ttotal: 713ms\tremaining: 918ms\n",
            "437:\tlearn: 1647.2341570\ttotal: 714ms\tremaining: 916ms\n",
            "438:\tlearn: 1646.1877825\ttotal: 716ms\tremaining: 915ms\n",
            "439:\tlearn: 1645.6065801\ttotal: 717ms\tremaining: 913ms\n",
            "440:\tlearn: 1645.5965036\ttotal: 718ms\tremaining: 911ms\n",
            "441:\tlearn: 1644.9139282\ttotal: 720ms\tremaining: 909ms\n",
            "442:\tlearn: 1644.3556189\ttotal: 721ms\tremaining: 907ms\n",
            "443:\tlearn: 1642.8566374\ttotal: 723ms\tremaining: 905ms\n",
            "444:\tlearn: 1641.8977234\ttotal: 724ms\tremaining: 903ms\n",
            "445:\tlearn: 1640.8293383\ttotal: 726ms\tremaining: 901ms\n",
            "446:\tlearn: 1640.0284111\ttotal: 727ms\tremaining: 900ms\n",
            "447:\tlearn: 1639.3132156\ttotal: 729ms\tremaining: 899ms\n",
            "448:\tlearn: 1638.4922836\ttotal: 731ms\tremaining: 897ms\n",
            "449:\tlearn: 1637.4337962\ttotal: 733ms\tremaining: 895ms\n",
            "450:\tlearn: 1636.7014453\ttotal: 734ms\tremaining: 894ms\n",
            "451:\tlearn: 1636.6511828\ttotal: 739ms\tremaining: 896ms\n",
            "452:\tlearn: 1635.6233911\ttotal: 744ms\tremaining: 899ms\n",
            "453:\tlearn: 1634.8711916\ttotal: 746ms\tremaining: 897ms\n",
            "454:\tlearn: 1634.3861321\ttotal: 751ms\tremaining: 899ms\n",
            "455:\tlearn: 1633.8159915\ttotal: 753ms\tremaining: 898ms\n",
            "456:\tlearn: 1632.9515111\ttotal: 755ms\tremaining: 897ms\n",
            "457:\tlearn: 1632.4331189\ttotal: 757ms\tremaining: 895ms\n",
            "458:\tlearn: 1631.5349362\ttotal: 758ms\tremaining: 894ms\n",
            "459:\tlearn: 1631.5094682\ttotal: 760ms\tremaining: 892ms\n",
            "460:\tlearn: 1630.4003218\ttotal: 761ms\tremaining: 890ms\n",
            "461:\tlearn: 1630.3317461\ttotal: 762ms\tremaining: 888ms\n",
            "462:\tlearn: 1629.7476035\ttotal: 764ms\tremaining: 886ms\n",
            "463:\tlearn: 1629.7377301\ttotal: 765ms\tremaining: 884ms\n",
            "464:\tlearn: 1628.9469568\ttotal: 767ms\tremaining: 882ms\n",
            "465:\tlearn: 1628.3305339\ttotal: 768ms\tremaining: 880ms\n",
            "466:\tlearn: 1627.9622402\ttotal: 770ms\tremaining: 878ms\n",
            "467:\tlearn: 1627.4584095\ttotal: 771ms\tremaining: 876ms\n",
            "468:\tlearn: 1626.7201754\ttotal: 773ms\tremaining: 875ms\n",
            "469:\tlearn: 1625.8291620\ttotal: 774ms\tremaining: 873ms\n",
            "470:\tlearn: 1625.3143091\ttotal: 776ms\tremaining: 871ms\n",
            "471:\tlearn: 1625.3064883\ttotal: 777ms\tremaining: 869ms\n",
            "472:\tlearn: 1624.3604748\ttotal: 778ms\tremaining: 867ms\n",
            "473:\tlearn: 1623.7668557\ttotal: 780ms\tremaining: 865ms\n",
            "474:\tlearn: 1623.1358202\ttotal: 781ms\tremaining: 863ms\n",
            "475:\tlearn: 1622.6036447\ttotal: 783ms\tremaining: 862ms\n",
            "476:\tlearn: 1621.9977671\ttotal: 784ms\tremaining: 860ms\n",
            "477:\tlearn: 1620.9688352\ttotal: 786ms\tremaining: 858ms\n",
            "478:\tlearn: 1620.3699773\ttotal: 787ms\tremaining: 856ms\n",
            "479:\tlearn: 1618.4402758\ttotal: 789ms\tremaining: 854ms\n",
            "480:\tlearn: 1617.6914441\ttotal: 790ms\tremaining: 853ms\n",
            "481:\tlearn: 1617.0804956\ttotal: 792ms\tremaining: 851ms\n",
            "482:\tlearn: 1616.0611491\ttotal: 793ms\tremaining: 849ms\n",
            "483:\tlearn: 1615.4226003\ttotal: 795ms\tremaining: 847ms\n",
            "484:\tlearn: 1614.5169660\ttotal: 796ms\tremaining: 845ms\n",
            "485:\tlearn: 1614.5109412\ttotal: 797ms\tremaining: 843ms\n",
            "486:\tlearn: 1614.0107123\ttotal: 799ms\tremaining: 841ms\n",
            "487:\tlearn: 1613.3125650\ttotal: 800ms\tremaining: 839ms\n",
            "488:\tlearn: 1612.5890351\ttotal: 801ms\tremaining: 838ms\n",
            "489:\tlearn: 1612.5821869\ttotal: 803ms\tremaining: 836ms\n",
            "490:\tlearn: 1611.7075721\ttotal: 804ms\tremaining: 834ms\n",
            "491:\tlearn: 1611.6995357\ttotal: 805ms\tremaining: 832ms\n",
            "492:\tlearn: 1610.9232680\ttotal: 807ms\tremaining: 830ms\n",
            "493:\tlearn: 1610.1337532\ttotal: 808ms\tremaining: 828ms\n",
            "494:\tlearn: 1609.4175330\ttotal: 810ms\tremaining: 826ms\n",
            "495:\tlearn: 1608.9383681\ttotal: 811ms\tremaining: 824ms\n",
            "496:\tlearn: 1608.2953724\ttotal: 813ms\tremaining: 823ms\n",
            "497:\tlearn: 1607.7858441\ttotal: 814ms\tremaining: 821ms\n",
            "498:\tlearn: 1607.7807148\ttotal: 815ms\tremaining: 819ms\n",
            "499:\tlearn: 1607.2686253\ttotal: 818ms\tremaining: 818ms\n",
            "500:\tlearn: 1606.8892919\ttotal: 820ms\tremaining: 817ms\n",
            "501:\tlearn: 1606.8843002\ttotal: 821ms\tremaining: 815ms\n",
            "502:\tlearn: 1606.5514718\ttotal: 823ms\tremaining: 813ms\n",
            "503:\tlearn: 1605.7904876\ttotal: 824ms\tremaining: 811ms\n",
            "504:\tlearn: 1605.7830545\ttotal: 825ms\tremaining: 809ms\n",
            "505:\tlearn: 1604.3440633\ttotal: 827ms\tremaining: 808ms\n",
            "506:\tlearn: 1603.6724544\ttotal: 829ms\tremaining: 806ms\n",
            "507:\tlearn: 1603.1789620\ttotal: 830ms\tremaining: 804ms\n",
            "508:\tlearn: 1602.5317857\ttotal: 832ms\tremaining: 802ms\n",
            "509:\tlearn: 1601.6360651\ttotal: 833ms\tremaining: 800ms\n",
            "510:\tlearn: 1601.1168584\ttotal: 834ms\tremaining: 799ms\n",
            "511:\tlearn: 1600.1409990\ttotal: 836ms\tremaining: 797ms\n",
            "512:\tlearn: 1598.8076771\ttotal: 837ms\tremaining: 795ms\n",
            "513:\tlearn: 1598.1491184\ttotal: 839ms\tremaining: 793ms\n",
            "514:\tlearn: 1597.8626225\ttotal: 840ms\tremaining: 791ms\n",
            "515:\tlearn: 1597.6143825\ttotal: 842ms\tremaining: 789ms\n",
            "516:\tlearn: 1596.4662235\ttotal: 843ms\tremaining: 788ms\n",
            "517:\tlearn: 1595.7400145\ttotal: 846ms\tremaining: 787ms\n",
            "518:\tlearn: 1595.0085465\ttotal: 853ms\tremaining: 790ms\n",
            "519:\tlearn: 1594.2497150\ttotal: 854ms\tremaining: 788ms\n",
            "520:\tlearn: 1594.2395205\ttotal: 855ms\tremaining: 786ms\n",
            "521:\tlearn: 1594.2342023\ttotal: 857ms\tremaining: 784ms\n",
            "522:\tlearn: 1593.7343689\ttotal: 858ms\tremaining: 783ms\n",
            "523:\tlearn: 1593.2990136\ttotal: 860ms\tremaining: 781ms\n",
            "524:\tlearn: 1593.2937802\ttotal: 861ms\tremaining: 779ms\n",
            "525:\tlearn: 1592.4805278\ttotal: 862ms\tremaining: 777ms\n",
            "526:\tlearn: 1591.3318756\ttotal: 864ms\tremaining: 775ms\n",
            "527:\tlearn: 1590.7243695\ttotal: 865ms\tremaining: 774ms\n",
            "528:\tlearn: 1590.6774548\ttotal: 867ms\tremaining: 772ms\n",
            "529:\tlearn: 1590.2788358\ttotal: 868ms\tremaining: 770ms\n",
            "530:\tlearn: 1589.4259231\ttotal: 870ms\tremaining: 768ms\n",
            "531:\tlearn: 1588.7541581\ttotal: 871ms\tremaining: 766ms\n",
            "532:\tlearn: 1588.7451407\ttotal: 872ms\tremaining: 764ms\n",
            "533:\tlearn: 1588.1264081\ttotal: 874ms\tremaining: 763ms\n",
            "534:\tlearn: 1587.4387665\ttotal: 875ms\tremaining: 761ms\n",
            "535:\tlearn: 1586.7819922\ttotal: 877ms\tremaining: 759ms\n",
            "536:\tlearn: 1585.9054589\ttotal: 878ms\tremaining: 757ms\n",
            "537:\tlearn: 1585.1963465\ttotal: 880ms\tremaining: 755ms\n",
            "538:\tlearn: 1584.4392699\ttotal: 881ms\tremaining: 754ms\n",
            "539:\tlearn: 1583.7659773\ttotal: 883ms\tremaining: 752ms\n",
            "540:\tlearn: 1583.0103901\ttotal: 884ms\tremaining: 750ms\n",
            "541:\tlearn: 1583.0039170\ttotal: 885ms\tremaining: 748ms\n",
            "542:\tlearn: 1582.7022752\ttotal: 887ms\tremaining: 746ms\n",
            "543:\tlearn: 1582.0544539\ttotal: 888ms\tremaining: 744ms\n",
            "544:\tlearn: 1581.7594818\ttotal: 890ms\tremaining: 743ms\n",
            "545:\tlearn: 1581.3736958\ttotal: 891ms\tremaining: 741ms\n",
            "546:\tlearn: 1580.7595848\ttotal: 892ms\tremaining: 739ms\n",
            "547:\tlearn: 1580.2740085\ttotal: 894ms\tremaining: 737ms\n",
            "548:\tlearn: 1578.8193755\ttotal: 895ms\tremaining: 735ms\n",
            "549:\tlearn: 1578.6005630\ttotal: 897ms\tremaining: 734ms\n",
            "550:\tlearn: 1578.5453546\ttotal: 898ms\tremaining: 732ms\n",
            "551:\tlearn: 1578.1050902\ttotal: 899ms\tremaining: 730ms\n",
            "552:\tlearn: 1577.7904733\ttotal: 901ms\tremaining: 728ms\n",
            "553:\tlearn: 1577.0619164\ttotal: 902ms\tremaining: 726ms\n",
            "554:\tlearn: 1576.3576558\ttotal: 904ms\tremaining: 725ms\n",
            "555:\tlearn: 1575.6724075\ttotal: 905ms\tremaining: 723ms\n",
            "556:\tlearn: 1575.2110090\ttotal: 907ms\tremaining: 721ms\n",
            "557:\tlearn: 1574.5653154\ttotal: 908ms\tremaining: 719ms\n",
            "558:\tlearn: 1573.1757996\ttotal: 910ms\tremaining: 718ms\n",
            "559:\tlearn: 1572.6625118\ttotal: 911ms\tremaining: 716ms\n",
            "560:\tlearn: 1571.8757508\ttotal: 913ms\tremaining: 714ms\n",
            "561:\tlearn: 1571.2519723\ttotal: 914ms\tremaining: 712ms\n",
            "562:\tlearn: 1570.6796646\ttotal: 916ms\tremaining: 711ms\n",
            "563:\tlearn: 1570.1033613\ttotal: 917ms\tremaining: 709ms\n",
            "564:\tlearn: 1568.9160185\ttotal: 919ms\tremaining: 707ms\n",
            "565:\tlearn: 1568.5164751\ttotal: 920ms\tremaining: 706ms\n",
            "566:\tlearn: 1567.9060385\ttotal: 922ms\tremaining: 704ms\n",
            "567:\tlearn: 1567.4387661\ttotal: 923ms\tremaining: 702ms\n",
            "568:\tlearn: 1567.0882239\ttotal: 925ms\tremaining: 700ms\n",
            "569:\tlearn: 1566.3842950\ttotal: 926ms\tremaining: 699ms\n",
            "570:\tlearn: 1565.4953245\ttotal: 927ms\tremaining: 697ms\n",
            "571:\tlearn: 1564.3934508\ttotal: 929ms\tremaining: 695ms\n",
            "572:\tlearn: 1563.5748092\ttotal: 930ms\tremaining: 693ms\n",
            "573:\tlearn: 1562.6186216\ttotal: 932ms\tremaining: 692ms\n",
            "574:\tlearn: 1562.3513167\ttotal: 933ms\tremaining: 690ms\n",
            "575:\tlearn: 1561.5528548\ttotal: 935ms\tremaining: 688ms\n",
            "576:\tlearn: 1560.7614094\ttotal: 936ms\tremaining: 686ms\n",
            "577:\tlearn: 1560.0601166\ttotal: 938ms\tremaining: 685ms\n",
            "578:\tlearn: 1559.2250822\ttotal: 941ms\tremaining: 684ms\n",
            "579:\tlearn: 1558.3712240\ttotal: 944ms\tremaining: 683ms\n",
            "580:\tlearn: 1558.3670241\ttotal: 945ms\tremaining: 681ms\n",
            "581:\tlearn: 1557.7630464\ttotal: 946ms\tremaining: 680ms\n",
            "582:\tlearn: 1557.1411342\ttotal: 948ms\tremaining: 678ms\n",
            "583:\tlearn: 1556.5069356\ttotal: 949ms\tremaining: 676ms\n",
            "584:\tlearn: 1556.0852295\ttotal: 951ms\tremaining: 675ms\n",
            "585:\tlearn: 1555.9384033\ttotal: 952ms\tremaining: 673ms\n",
            "586:\tlearn: 1555.4244309\ttotal: 954ms\tremaining: 671ms\n",
            "587:\tlearn: 1554.9536885\ttotal: 955ms\tremaining: 669ms\n",
            "588:\tlearn: 1554.5506445\ttotal: 957ms\tremaining: 668ms\n",
            "589:\tlearn: 1553.7435996\ttotal: 958ms\tremaining: 666ms\n",
            "590:\tlearn: 1553.1555125\ttotal: 960ms\tremaining: 664ms\n",
            "591:\tlearn: 1552.7449043\ttotal: 961ms\tremaining: 662ms\n",
            "592:\tlearn: 1552.5474571\ttotal: 963ms\tremaining: 661ms\n",
            "593:\tlearn: 1551.9465083\ttotal: 964ms\tremaining: 659ms\n",
            "594:\tlearn: 1551.9413036\ttotal: 965ms\tremaining: 657ms\n",
            "595:\tlearn: 1551.2965977\ttotal: 967ms\tremaining: 655ms\n",
            "596:\tlearn: 1550.7403946\ttotal: 968ms\tremaining: 654ms\n",
            "597:\tlearn: 1550.1027460\ttotal: 970ms\tremaining: 652ms\n",
            "598:\tlearn: 1550.0974462\ttotal: 971ms\tremaining: 650ms\n",
            "599:\tlearn: 1549.4200649\ttotal: 973ms\tremaining: 648ms\n",
            "600:\tlearn: 1548.9302156\ttotal: 974ms\tremaining: 647ms\n",
            "601:\tlearn: 1548.5106045\ttotal: 976ms\tremaining: 645ms\n",
            "602:\tlearn: 1548.2659990\ttotal: 977ms\tremaining: 643ms\n",
            "603:\tlearn: 1547.9753359\ttotal: 978ms\tremaining: 641ms\n",
            "604:\tlearn: 1547.0668429\ttotal: 980ms\tremaining: 640ms\n",
            "605:\tlearn: 1546.7331903\ttotal: 981ms\tremaining: 638ms\n",
            "606:\tlearn: 1546.2364320\ttotal: 983ms\tremaining: 636ms\n",
            "607:\tlearn: 1544.9458626\ttotal: 985ms\tremaining: 635ms\n",
            "608:\tlearn: 1544.1553853\ttotal: 986ms\tremaining: 633ms\n",
            "609:\tlearn: 1543.5227193\ttotal: 988ms\tremaining: 631ms\n",
            "610:\tlearn: 1543.1574970\ttotal: 989ms\tremaining: 630ms\n",
            "611:\tlearn: 1542.4043828\ttotal: 990ms\tremaining: 628ms\n",
            "612:\tlearn: 1542.4010298\ttotal: 992ms\tremaining: 626ms\n",
            "613:\tlearn: 1542.0254656\ttotal: 993ms\tremaining: 624ms\n",
            "614:\tlearn: 1542.0142688\ttotal: 994ms\tremaining: 622ms\n",
            "615:\tlearn: 1541.2754754\ttotal: 996ms\tremaining: 621ms\n",
            "616:\tlearn: 1540.7228919\ttotal: 997ms\tremaining: 619ms\n",
            "617:\tlearn: 1540.0521529\ttotal: 998ms\tremaining: 617ms\n",
            "618:\tlearn: 1539.2152924\ttotal: 999ms\tremaining: 615ms\n",
            "619:\tlearn: 1538.7370095\ttotal: 1s\tremaining: 613ms\n",
            "620:\tlearn: 1537.7788906\ttotal: 1s\tremaining: 612ms\n",
            "621:\tlearn: 1537.2246212\ttotal: 1s\tremaining: 610ms\n",
            "622:\tlearn: 1536.7143343\ttotal: 1s\tremaining: 608ms\n",
            "623:\tlearn: 1536.7094272\ttotal: 1.01s\tremaining: 607ms\n",
            "624:\tlearn: 1536.3869153\ttotal: 1.01s\tremaining: 605ms\n",
            "625:\tlearn: 1536.3574037\ttotal: 1.01s\tremaining: 603ms\n",
            "626:\tlearn: 1535.8215118\ttotal: 1.01s\tremaining: 601ms\n",
            "627:\tlearn: 1535.2411121\ttotal: 1.01s\tremaining: 600ms\n",
            "628:\tlearn: 1535.2380104\ttotal: 1.01s\tremaining: 598ms\n",
            "629:\tlearn: 1534.6060462\ttotal: 1.01s\tremaining: 596ms\n",
            "630:\tlearn: 1534.1998505\ttotal: 1.02s\tremaining: 594ms\n",
            "631:\tlearn: 1533.6898229\ttotal: 1.02s\tremaining: 593ms\n",
            "632:\tlearn: 1533.0626316\ttotal: 1.02s\tremaining: 591ms\n",
            "633:\tlearn: 1532.5284708\ttotal: 1.02s\tremaining: 589ms\n",
            "634:\tlearn: 1531.9967798\ttotal: 1.02s\tremaining: 587ms\n",
            "635:\tlearn: 1531.7112832\ttotal: 1.02s\tremaining: 585ms\n",
            "636:\tlearn: 1531.3901547\ttotal: 1.02s\tremaining: 584ms\n",
            "637:\tlearn: 1530.7413788\ttotal: 1.02s\tremaining: 582ms\n",
            "638:\tlearn: 1530.1317663\ttotal: 1.03s\tremaining: 580ms\n",
            "639:\tlearn: 1529.6674057\ttotal: 1.03s\tremaining: 579ms\n",
            "640:\tlearn: 1529.5797087\ttotal: 1.03s\tremaining: 577ms\n",
            "641:\tlearn: 1529.3125262\ttotal: 1.03s\tremaining: 575ms\n",
            "642:\tlearn: 1528.4290349\ttotal: 1.03s\tremaining: 573ms\n",
            "643:\tlearn: 1527.7665498\ttotal: 1.03s\tremaining: 572ms\n",
            "644:\tlearn: 1527.4089215\ttotal: 1.03s\tremaining: 570ms\n",
            "645:\tlearn: 1526.7499370\ttotal: 1.04s\tremaining: 568ms\n",
            "646:\tlearn: 1526.3467652\ttotal: 1.04s\tremaining: 567ms\n",
            "647:\tlearn: 1526.3267501\ttotal: 1.04s\tremaining: 565ms\n",
            "648:\tlearn: 1525.9131676\ttotal: 1.04s\tremaining: 563ms\n",
            "649:\tlearn: 1525.6620120\ttotal: 1.04s\tremaining: 562ms\n",
            "650:\tlearn: 1525.6590803\ttotal: 1.04s\tremaining: 560ms\n",
            "651:\tlearn: 1524.8513039\ttotal: 1.04s\tremaining: 558ms\n",
            "652:\tlearn: 1524.5334338\ttotal: 1.05s\tremaining: 556ms\n",
            "653:\tlearn: 1524.5301906\ttotal: 1.05s\tremaining: 555ms\n",
            "654:\tlearn: 1524.5271545\ttotal: 1.05s\tremaining: 553ms\n",
            "655:\tlearn: 1523.9203047\ttotal: 1.05s\tremaining: 551ms\n",
            "656:\tlearn: 1522.9386881\ttotal: 1.05s\tremaining: 550ms\n",
            "657:\tlearn: 1522.5753418\ttotal: 1.05s\tremaining: 548ms\n",
            "658:\tlearn: 1522.2894435\ttotal: 1.05s\tremaining: 546ms\n",
            "659:\tlearn: 1521.9275188\ttotal: 1.06s\tremaining: 544ms\n",
            "660:\tlearn: 1521.4955870\ttotal: 1.06s\tremaining: 543ms\n",
            "661:\tlearn: 1520.7148004\ttotal: 1.06s\tremaining: 541ms\n",
            "662:\tlearn: 1519.9998460\ttotal: 1.06s\tremaining: 539ms\n",
            "663:\tlearn: 1519.7088348\ttotal: 1.06s\tremaining: 538ms\n",
            "664:\tlearn: 1519.0729125\ttotal: 1.06s\tremaining: 536ms\n",
            "665:\tlearn: 1518.7245451\ttotal: 1.06s\tremaining: 535ms\n",
            "666:\tlearn: 1518.3028210\ttotal: 1.07s\tremaining: 533ms\n",
            "667:\tlearn: 1517.8963755\ttotal: 1.07s\tremaining: 531ms\n",
            "668:\tlearn: 1517.2885171\ttotal: 1.07s\tremaining: 530ms\n",
            "669:\tlearn: 1516.9046846\ttotal: 1.07s\tremaining: 528ms\n",
            "670:\tlearn: 1516.5022226\ttotal: 1.07s\tremaining: 526ms\n",
            "671:\tlearn: 1515.9625154\ttotal: 1.07s\tremaining: 525ms\n",
            "672:\tlearn: 1515.3536848\ttotal: 1.07s\tremaining: 523ms\n",
            "673:\tlearn: 1515.0966709\ttotal: 1.08s\tremaining: 521ms\n",
            "674:\tlearn: 1514.9806153\ttotal: 1.08s\tremaining: 519ms\n",
            "675:\tlearn: 1514.4884471\ttotal: 1.08s\tremaining: 518ms\n",
            "676:\tlearn: 1514.1330009\ttotal: 1.08s\tremaining: 516ms\n",
            "677:\tlearn: 1513.8630534\ttotal: 1.08s\tremaining: 514ms\n",
            "678:\tlearn: 1513.2397942\ttotal: 1.08s\tremaining: 513ms\n",
            "679:\tlearn: 1512.9611693\ttotal: 1.08s\tremaining: 511ms\n",
            "680:\tlearn: 1512.9582960\ttotal: 1.09s\tremaining: 509ms\n",
            "681:\tlearn: 1512.9537739\ttotal: 1.09s\tremaining: 507ms\n",
            "682:\tlearn: 1512.6098269\ttotal: 1.09s\tremaining: 506ms\n",
            "683:\tlearn: 1512.3345003\ttotal: 1.09s\tremaining: 504ms\n",
            "684:\tlearn: 1511.4072115\ttotal: 1.09s\tremaining: 503ms\n",
            "685:\tlearn: 1510.8253731\ttotal: 1.09s\tremaining: 502ms\n",
            "686:\tlearn: 1510.0110239\ttotal: 1.1s\tremaining: 500ms\n",
            "687:\tlearn: 1509.5392213\ttotal: 1.1s\tremaining: 499ms\n",
            "688:\tlearn: 1508.9889445\ttotal: 1.1s\tremaining: 497ms\n",
            "689:\tlearn: 1508.5729999\ttotal: 1.1s\tremaining: 497ms\n",
            "690:\tlearn: 1508.2083591\ttotal: 1.11s\tremaining: 495ms\n",
            "691:\tlearn: 1508.2039384\ttotal: 1.11s\tremaining: 494ms\n",
            "692:\tlearn: 1507.6940263\ttotal: 1.11s\tremaining: 492ms\n",
            "693:\tlearn: 1507.6896705\ttotal: 1.11s\tremaining: 490ms\n",
            "694:\tlearn: 1507.2664677\ttotal: 1.11s\tremaining: 489ms\n",
            "695:\tlearn: 1506.7337350\ttotal: 1.11s\tremaining: 487ms\n",
            "696:\tlearn: 1506.0049773\ttotal: 1.12s\tremaining: 485ms\n",
            "697:\tlearn: 1505.8498603\ttotal: 1.12s\tremaining: 484ms\n",
            "698:\tlearn: 1505.1210197\ttotal: 1.12s\tremaining: 482ms\n",
            "699:\tlearn: 1504.8431871\ttotal: 1.12s\tremaining: 480ms\n",
            "700:\tlearn: 1504.0961695\ttotal: 1.12s\tremaining: 479ms\n",
            "701:\tlearn: 1503.6307857\ttotal: 1.12s\tremaining: 477ms\n",
            "702:\tlearn: 1503.4967588\ttotal: 1.12s\tremaining: 475ms\n",
            "703:\tlearn: 1503.0202683\ttotal: 1.13s\tremaining: 473ms\n",
            "704:\tlearn: 1502.5236424\ttotal: 1.13s\tremaining: 472ms\n",
            "705:\tlearn: 1501.7091477\ttotal: 1.13s\tremaining: 471ms\n",
            "706:\tlearn: 1501.2245641\ttotal: 1.13s\tremaining: 469ms\n",
            "707:\tlearn: 1500.9280075\ttotal: 1.14s\tremaining: 468ms\n",
            "708:\tlearn: 1500.6968915\ttotal: 1.14s\tremaining: 467ms\n",
            "709:\tlearn: 1500.1111378\ttotal: 1.14s\tremaining: 465ms\n",
            "710:\tlearn: 1498.9263314\ttotal: 1.14s\tremaining: 463ms\n",
            "711:\tlearn: 1498.5003139\ttotal: 1.14s\tremaining: 462ms\n",
            "712:\tlearn: 1498.1782580\ttotal: 1.14s\tremaining: 460ms\n",
            "713:\tlearn: 1497.8717321\ttotal: 1.14s\tremaining: 458ms\n",
            "714:\tlearn: 1497.3174835\ttotal: 1.14s\tremaining: 456ms\n",
            "715:\tlearn: 1496.5960033\ttotal: 1.15s\tremaining: 455ms\n",
            "716:\tlearn: 1496.3579503\ttotal: 1.15s\tremaining: 453ms\n",
            "717:\tlearn: 1495.9380334\ttotal: 1.15s\tremaining: 451ms\n",
            "718:\tlearn: 1495.6767789\ttotal: 1.15s\tremaining: 449ms\n",
            "719:\tlearn: 1494.9828119\ttotal: 1.15s\tremaining: 448ms\n",
            "720:\tlearn: 1494.6367972\ttotal: 1.15s\tremaining: 446ms\n",
            "721:\tlearn: 1493.9308821\ttotal: 1.15s\tremaining: 444ms\n",
            "722:\tlearn: 1493.4155117\ttotal: 1.15s\tremaining: 442ms\n",
            "723:\tlearn: 1492.8999298\ttotal: 1.16s\tremaining: 441ms\n",
            "724:\tlearn: 1492.5529815\ttotal: 1.16s\tremaining: 439ms\n",
            "725:\tlearn: 1492.5503532\ttotal: 1.16s\tremaining: 437ms\n",
            "726:\tlearn: 1491.9711517\ttotal: 1.16s\tremaining: 435ms\n",
            "727:\tlearn: 1491.7256780\ttotal: 1.16s\tremaining: 434ms\n",
            "728:\tlearn: 1491.2995945\ttotal: 1.16s\tremaining: 432ms\n",
            "729:\tlearn: 1490.7823761\ttotal: 1.16s\tremaining: 430ms\n",
            "730:\tlearn: 1490.6915808\ttotal: 1.16s\tremaining: 428ms\n",
            "731:\tlearn: 1490.2825795\ttotal: 1.17s\tremaining: 427ms\n",
            "732:\tlearn: 1489.8096143\ttotal: 1.17s\tremaining: 425ms\n",
            "733:\tlearn: 1489.0787327\ttotal: 1.17s\tremaining: 423ms\n",
            "734:\tlearn: 1488.6848412\ttotal: 1.17s\tremaining: 422ms\n",
            "735:\tlearn: 1488.2467965\ttotal: 1.17s\tremaining: 420ms\n",
            "736:\tlearn: 1487.7673546\ttotal: 1.17s\tremaining: 418ms\n",
            "737:\tlearn: 1487.2625927\ttotal: 1.17s\tremaining: 416ms\n",
            "738:\tlearn: 1487.0717932\ttotal: 1.17s\tremaining: 415ms\n",
            "739:\tlearn: 1486.6336424\ttotal: 1.18s\tremaining: 413ms\n",
            "740:\tlearn: 1486.6297844\ttotal: 1.18s\tremaining: 411ms\n",
            "741:\tlearn: 1486.2286436\ttotal: 1.18s\tremaining: 409ms\n",
            "742:\tlearn: 1485.6756219\ttotal: 1.18s\tremaining: 408ms\n",
            "743:\tlearn: 1485.0652870\ttotal: 1.18s\tremaining: 406ms\n",
            "744:\tlearn: 1484.2598052\ttotal: 1.18s\tremaining: 404ms\n",
            "745:\tlearn: 1483.2192624\ttotal: 1.18s\tremaining: 403ms\n",
            "746:\tlearn: 1483.1848552\ttotal: 1.18s\tremaining: 401ms\n",
            "747:\tlearn: 1482.7831431\ttotal: 1.18s\tremaining: 399ms\n",
            "748:\tlearn: 1482.4419482\ttotal: 1.19s\tremaining: 398ms\n",
            "749:\tlearn: 1482.4395726\ttotal: 1.19s\tremaining: 396ms\n",
            "750:\tlearn: 1482.1383432\ttotal: 1.19s\tremaining: 394ms\n",
            "751:\tlearn: 1481.6705720\ttotal: 1.19s\tremaining: 392ms\n",
            "752:\tlearn: 1481.4897376\ttotal: 1.19s\tremaining: 391ms\n",
            "753:\tlearn: 1480.6698025\ttotal: 1.19s\tremaining: 389ms\n",
            "754:\tlearn: 1480.1352485\ttotal: 1.19s\tremaining: 387ms\n",
            "755:\tlearn: 1479.4421895\ttotal: 1.19s\tremaining: 386ms\n",
            "756:\tlearn: 1479.0443118\ttotal: 1.2s\tremaining: 384ms\n",
            "757:\tlearn: 1478.5472154\ttotal: 1.2s\tremaining: 382ms\n",
            "758:\tlearn: 1478.2617329\ttotal: 1.2s\tremaining: 380ms\n",
            "759:\tlearn: 1478.0570969\ttotal: 1.2s\tremaining: 379ms\n",
            "760:\tlearn: 1477.6051465\ttotal: 1.2s\tremaining: 377ms\n",
            "761:\tlearn: 1477.1409845\ttotal: 1.2s\tremaining: 375ms\n",
            "762:\tlearn: 1477.1366944\ttotal: 1.2s\tremaining: 374ms\n",
            "763:\tlearn: 1477.1338892\ttotal: 1.2s\tremaining: 372ms\n",
            "764:\tlearn: 1476.9078288\ttotal: 1.21s\tremaining: 370ms\n",
            "765:\tlearn: 1476.5919388\ttotal: 1.21s\tremaining: 369ms\n",
            "766:\tlearn: 1476.5171377\ttotal: 1.21s\tremaining: 367ms\n",
            "767:\tlearn: 1476.3300476\ttotal: 1.21s\tremaining: 365ms\n",
            "768:\tlearn: 1475.6407964\ttotal: 1.21s\tremaining: 363ms\n",
            "769:\tlearn: 1475.1979300\ttotal: 1.21s\tremaining: 362ms\n",
            "770:\tlearn: 1474.6973566\ttotal: 1.21s\tremaining: 360ms\n",
            "771:\tlearn: 1474.1779198\ttotal: 1.21s\tremaining: 358ms\n",
            "772:\tlearn: 1473.6828310\ttotal: 1.21s\tremaining: 357ms\n",
            "773:\tlearn: 1473.6801323\ttotal: 1.22s\tremaining: 355ms\n",
            "774:\tlearn: 1473.1537735\ttotal: 1.22s\tremaining: 353ms\n",
            "775:\tlearn: 1472.9480038\ttotal: 1.22s\tremaining: 352ms\n",
            "776:\tlearn: 1472.2181126\ttotal: 1.22s\tremaining: 350ms\n",
            "777:\tlearn: 1471.7818301\ttotal: 1.22s\tremaining: 348ms\n",
            "778:\tlearn: 1471.3164175\ttotal: 1.22s\tremaining: 347ms\n",
            "779:\tlearn: 1471.3137378\ttotal: 1.22s\tremaining: 345ms\n",
            "780:\tlearn: 1470.9590602\ttotal: 1.22s\tremaining: 343ms\n",
            "781:\tlearn: 1470.4539331\ttotal: 1.23s\tremaining: 342ms\n",
            "782:\tlearn: 1470.1037079\ttotal: 1.23s\tremaining: 340ms\n",
            "783:\tlearn: 1469.1716415\ttotal: 1.23s\tremaining: 338ms\n",
            "784:\tlearn: 1468.9403614\ttotal: 1.23s\tremaining: 337ms\n",
            "785:\tlearn: 1468.9365348\ttotal: 1.23s\tremaining: 335ms\n",
            "786:\tlearn: 1468.8198865\ttotal: 1.23s\tremaining: 333ms\n",
            "787:\tlearn: 1468.2589813\ttotal: 1.23s\tremaining: 332ms\n",
            "788:\tlearn: 1467.7694094\ttotal: 1.23s\tremaining: 330ms\n",
            "789:\tlearn: 1467.2378348\ttotal: 1.24s\tremaining: 329ms\n",
            "790:\tlearn: 1466.6867476\ttotal: 1.24s\tremaining: 327ms\n",
            "791:\tlearn: 1466.4481266\ttotal: 1.24s\tremaining: 325ms\n",
            "792:\tlearn: 1466.0195469\ttotal: 1.24s\tremaining: 324ms\n",
            "793:\tlearn: 1466.0162516\ttotal: 1.24s\tremaining: 323ms\n",
            "794:\tlearn: 1466.0121060\ttotal: 1.25s\tremaining: 321ms\n",
            "795:\tlearn: 1465.7921216\ttotal: 1.25s\tremaining: 320ms\n",
            "796:\tlearn: 1465.3405539\ttotal: 1.25s\tremaining: 318ms\n",
            "797:\tlearn: 1464.9464200\ttotal: 1.25s\tremaining: 316ms\n",
            "798:\tlearn: 1464.4432390\ttotal: 1.25s\tremaining: 315ms\n",
            "799:\tlearn: 1464.4407305\ttotal: 1.25s\tremaining: 313ms\n",
            "800:\tlearn: 1464.1203185\ttotal: 1.25s\tremaining: 312ms\n",
            "801:\tlearn: 1463.7842593\ttotal: 1.25s\tremaining: 310ms\n",
            "802:\tlearn: 1463.4886130\ttotal: 1.26s\tremaining: 308ms\n",
            "803:\tlearn: 1463.2387683\ttotal: 1.26s\tremaining: 307ms\n",
            "804:\tlearn: 1462.8313578\ttotal: 1.26s\tremaining: 305ms\n",
            "805:\tlearn: 1462.6017868\ttotal: 1.26s\tremaining: 304ms\n",
            "806:\tlearn: 1462.4316515\ttotal: 1.26s\tremaining: 302ms\n",
            "807:\tlearn: 1461.8332496\ttotal: 1.26s\tremaining: 300ms\n",
            "808:\tlearn: 1461.6465642\ttotal: 1.26s\tremaining: 299ms\n",
            "809:\tlearn: 1461.4781258\ttotal: 1.27s\tremaining: 297ms\n",
            "810:\tlearn: 1461.1209006\ttotal: 1.27s\tremaining: 296ms\n",
            "811:\tlearn: 1460.7002941\ttotal: 1.27s\tremaining: 294ms\n",
            "812:\tlearn: 1460.3450874\ttotal: 1.27s\tremaining: 292ms\n",
            "813:\tlearn: 1459.8216877\ttotal: 1.27s\tremaining: 291ms\n",
            "814:\tlearn: 1459.2279638\ttotal: 1.27s\tremaining: 289ms\n",
            "815:\tlearn: 1458.8274393\ttotal: 1.27s\tremaining: 288ms\n",
            "816:\tlearn: 1458.6059761\ttotal: 1.28s\tremaining: 286ms\n",
            "817:\tlearn: 1458.6040278\ttotal: 1.28s\tremaining: 284ms\n",
            "818:\tlearn: 1458.6003278\ttotal: 1.28s\tremaining: 283ms\n",
            "819:\tlearn: 1457.5833269\ttotal: 1.28s\tremaining: 281ms\n",
            "820:\tlearn: 1457.3004243\ttotal: 1.28s\tremaining: 280ms\n",
            "821:\tlearn: 1456.8507487\ttotal: 1.28s\tremaining: 278ms\n",
            "822:\tlearn: 1456.3956979\ttotal: 1.28s\tremaining: 276ms\n",
            "823:\tlearn: 1455.6548069\ttotal: 1.29s\tremaining: 275ms\n",
            "824:\tlearn: 1455.1132909\ttotal: 1.29s\tremaining: 273ms\n",
            "825:\tlearn: 1454.7832722\ttotal: 1.29s\tremaining: 272ms\n",
            "826:\tlearn: 1454.3364815\ttotal: 1.29s\tremaining: 270ms\n",
            "827:\tlearn: 1454.1236436\ttotal: 1.29s\tremaining: 268ms\n",
            "828:\tlearn: 1453.7228184\ttotal: 1.29s\tremaining: 267ms\n",
            "829:\tlearn: 1453.0717926\ttotal: 1.29s\tremaining: 265ms\n",
            "830:\tlearn: 1452.7422563\ttotal: 1.3s\tremaining: 264ms\n",
            "831:\tlearn: 1452.3497423\ttotal: 1.3s\tremaining: 262ms\n",
            "832:\tlearn: 1452.1931281\ttotal: 1.3s\tremaining: 261ms\n",
            "833:\tlearn: 1452.0197826\ttotal: 1.3s\tremaining: 259ms\n",
            "834:\tlearn: 1451.4269733\ttotal: 1.3s\tremaining: 257ms\n",
            "835:\tlearn: 1450.9282979\ttotal: 1.3s\tremaining: 256ms\n",
            "836:\tlearn: 1450.5972084\ttotal: 1.3s\tremaining: 254ms\n",
            "837:\tlearn: 1450.2966790\ttotal: 1.31s\tremaining: 253ms\n",
            "838:\tlearn: 1449.8151599\ttotal: 1.31s\tremaining: 252ms\n",
            "839:\tlearn: 1449.4885714\ttotal: 1.31s\tremaining: 250ms\n",
            "840:\tlearn: 1449.1391264\ttotal: 1.31s\tremaining: 249ms\n",
            "841:\tlearn: 1448.8283664\ttotal: 1.32s\tremaining: 247ms\n",
            "842:\tlearn: 1448.5122232\ttotal: 1.32s\tremaining: 245ms\n",
            "843:\tlearn: 1448.2571920\ttotal: 1.32s\tremaining: 244ms\n",
            "844:\tlearn: 1447.9988625\ttotal: 1.32s\tremaining: 242ms\n",
            "845:\tlearn: 1447.7810335\ttotal: 1.32s\tremaining: 241ms\n",
            "846:\tlearn: 1447.5391797\ttotal: 1.32s\tremaining: 239ms\n",
            "847:\tlearn: 1447.2654195\ttotal: 1.32s\tremaining: 238ms\n",
            "848:\tlearn: 1446.9389959\ttotal: 1.33s\tremaining: 236ms\n",
            "849:\tlearn: 1446.5716172\ttotal: 1.33s\tremaining: 234ms\n",
            "850:\tlearn: 1446.3622722\ttotal: 1.33s\tremaining: 233ms\n",
            "851:\tlearn: 1446.3583204\ttotal: 1.33s\tremaining: 231ms\n",
            "852:\tlearn: 1445.8831714\ttotal: 1.33s\tremaining: 230ms\n",
            "853:\tlearn: 1445.3194040\ttotal: 1.33s\tremaining: 228ms\n",
            "854:\tlearn: 1444.9692177\ttotal: 1.34s\tremaining: 227ms\n",
            "855:\tlearn: 1444.9017587\ttotal: 1.34s\tremaining: 225ms\n",
            "856:\tlearn: 1444.5609571\ttotal: 1.34s\tremaining: 223ms\n",
            "857:\tlearn: 1444.1281278\ttotal: 1.34s\tremaining: 222ms\n",
            "858:\tlearn: 1443.9967240\ttotal: 1.34s\tremaining: 220ms\n",
            "859:\tlearn: 1443.5781682\ttotal: 1.34s\tremaining: 219ms\n",
            "860:\tlearn: 1443.2678628\ttotal: 1.34s\tremaining: 217ms\n",
            "861:\tlearn: 1443.2031726\ttotal: 1.35s\tremaining: 216ms\n",
            "862:\tlearn: 1443.0320211\ttotal: 1.35s\tremaining: 214ms\n",
            "863:\tlearn: 1442.7373056\ttotal: 1.35s\tremaining: 212ms\n",
            "864:\tlearn: 1442.3124627\ttotal: 1.35s\tremaining: 211ms\n",
            "865:\tlearn: 1442.3091257\ttotal: 1.35s\tremaining: 209ms\n",
            "866:\tlearn: 1441.7809279\ttotal: 1.35s\tremaining: 208ms\n",
            "867:\tlearn: 1441.6266369\ttotal: 1.35s\tremaining: 206ms\n",
            "868:\tlearn: 1441.4770548\ttotal: 1.36s\tremaining: 205ms\n",
            "869:\tlearn: 1441.3138175\ttotal: 1.36s\tremaining: 203ms\n",
            "870:\tlearn: 1440.8453966\ttotal: 1.36s\tremaining: 201ms\n",
            "871:\tlearn: 1440.5893895\ttotal: 1.36s\tremaining: 200ms\n",
            "872:\tlearn: 1440.4814841\ttotal: 1.36s\tremaining: 198ms\n",
            "873:\tlearn: 1440.4189430\ttotal: 1.36s\tremaining: 197ms\n",
            "874:\tlearn: 1440.4168150\ttotal: 1.36s\tremaining: 195ms\n",
            "875:\tlearn: 1440.4134247\ttotal: 1.37s\tremaining: 193ms\n",
            "876:\tlearn: 1440.1888814\ttotal: 1.37s\tremaining: 192ms\n",
            "877:\tlearn: 1439.8345050\ttotal: 1.37s\tremaining: 190ms\n",
            "878:\tlearn: 1439.4806511\ttotal: 1.37s\tremaining: 189ms\n",
            "879:\tlearn: 1439.2028904\ttotal: 1.37s\tremaining: 187ms\n",
            "880:\tlearn: 1438.7472496\ttotal: 1.37s\tremaining: 186ms\n",
            "881:\tlearn: 1438.5670982\ttotal: 1.38s\tremaining: 184ms\n",
            "882:\tlearn: 1438.5641485\ttotal: 1.38s\tremaining: 182ms\n",
            "883:\tlearn: 1437.9403800\ttotal: 1.38s\tremaining: 181ms\n",
            "884:\tlearn: 1437.5493199\ttotal: 1.38s\tremaining: 179ms\n",
            "885:\tlearn: 1436.9101397\ttotal: 1.38s\tremaining: 178ms\n",
            "886:\tlearn: 1436.3980361\ttotal: 1.38s\tremaining: 176ms\n",
            "887:\tlearn: 1436.0231152\ttotal: 1.38s\tremaining: 175ms\n",
            "888:\tlearn: 1435.5457145\ttotal: 1.39s\tremaining: 173ms\n",
            "889:\tlearn: 1435.2861676\ttotal: 1.39s\tremaining: 171ms\n",
            "890:\tlearn: 1435.2842827\ttotal: 1.39s\tremaining: 170ms\n",
            "891:\tlearn: 1434.9485688\ttotal: 1.39s\tremaining: 168ms\n",
            "892:\tlearn: 1434.4647108\ttotal: 1.39s\tremaining: 167ms\n",
            "893:\tlearn: 1434.0763276\ttotal: 1.39s\tremaining: 165ms\n",
            "894:\tlearn: 1433.8096544\ttotal: 1.39s\tremaining: 164ms\n",
            "895:\tlearn: 1433.8080976\ttotal: 1.4s\tremaining: 162ms\n",
            "896:\tlearn: 1433.4302034\ttotal: 1.4s\tremaining: 160ms\n",
            "897:\tlearn: 1433.0685407\ttotal: 1.4s\tremaining: 159ms\n",
            "898:\tlearn: 1432.7477405\ttotal: 1.4s\tremaining: 157ms\n",
            "899:\tlearn: 1432.4168701\ttotal: 1.4s\tremaining: 156ms\n",
            "900:\tlearn: 1432.0883090\ttotal: 1.4s\tremaining: 154ms\n",
            "901:\tlearn: 1431.6808843\ttotal: 1.4s\tremaining: 153ms\n",
            "902:\tlearn: 1431.3136350\ttotal: 1.41s\tremaining: 151ms\n",
            "903:\tlearn: 1431.1017034\ttotal: 1.41s\tremaining: 149ms\n",
            "904:\tlearn: 1430.7038956\ttotal: 1.41s\tremaining: 148ms\n",
            "905:\tlearn: 1430.3659010\ttotal: 1.41s\tremaining: 146ms\n",
            "906:\tlearn: 1430.2852661\ttotal: 1.41s\tremaining: 145ms\n",
            "907:\tlearn: 1429.6312476\ttotal: 1.41s\tremaining: 143ms\n",
            "908:\tlearn: 1429.5319200\ttotal: 1.41s\tremaining: 142ms\n",
            "909:\tlearn: 1429.4336407\ttotal: 1.42s\tremaining: 140ms\n",
            "910:\tlearn: 1429.0012968\ttotal: 1.42s\tremaining: 138ms\n",
            "911:\tlearn: 1428.5440316\ttotal: 1.42s\tremaining: 137ms\n",
            "912:\tlearn: 1428.5412944\ttotal: 1.42s\tremaining: 135ms\n",
            "913:\tlearn: 1428.0742534\ttotal: 1.42s\tremaining: 134ms\n",
            "914:\tlearn: 1427.6730743\ttotal: 1.42s\tremaining: 132ms\n",
            "915:\tlearn: 1427.4568720\ttotal: 1.43s\tremaining: 131ms\n",
            "916:\tlearn: 1427.0954844\ttotal: 1.43s\tremaining: 129ms\n",
            "917:\tlearn: 1426.9366839\ttotal: 1.43s\tremaining: 128ms\n",
            "918:\tlearn: 1426.6813388\ttotal: 1.44s\tremaining: 127ms\n",
            "919:\tlearn: 1426.4727369\ttotal: 1.44s\tremaining: 125ms\n",
            "920:\tlearn: 1425.8065575\ttotal: 1.45s\tremaining: 124ms\n",
            "921:\tlearn: 1425.4383787\ttotal: 1.45s\tremaining: 122ms\n",
            "922:\tlearn: 1425.3379628\ttotal: 1.46s\tremaining: 121ms\n",
            "923:\tlearn: 1424.9616135\ttotal: 1.46s\tremaining: 120ms\n",
            "924:\tlearn: 1424.6244477\ttotal: 1.46s\tremaining: 118ms\n",
            "925:\tlearn: 1424.5101258\ttotal: 1.46s\tremaining: 117ms\n",
            "926:\tlearn: 1423.7127644\ttotal: 1.46s\tremaining: 115ms\n",
            "927:\tlearn: 1423.1616805\ttotal: 1.46s\tremaining: 114ms\n",
            "928:\tlearn: 1422.8866592\ttotal: 1.47s\tremaining: 112ms\n",
            "929:\tlearn: 1422.6508425\ttotal: 1.47s\tremaining: 110ms\n",
            "930:\tlearn: 1422.1944665\ttotal: 1.47s\tremaining: 109ms\n",
            "931:\tlearn: 1421.8175894\ttotal: 1.47s\tremaining: 107ms\n",
            "932:\tlearn: 1421.3839682\ttotal: 1.47s\tremaining: 106ms\n",
            "933:\tlearn: 1420.8144125\ttotal: 1.47s\tremaining: 104ms\n",
            "934:\tlearn: 1420.4211554\ttotal: 1.47s\tremaining: 102ms\n",
            "935:\tlearn: 1419.6126410\ttotal: 1.48s\tremaining: 101ms\n",
            "936:\tlearn: 1419.3165205\ttotal: 1.48s\tremaining: 99.3ms\n",
            "937:\tlearn: 1418.9423710\ttotal: 1.48s\tremaining: 97.8ms\n",
            "938:\tlearn: 1418.2763924\ttotal: 1.48s\tremaining: 96.4ms\n",
            "939:\tlearn: 1418.1169155\ttotal: 1.49s\tremaining: 94.9ms\n",
            "940:\tlearn: 1417.5612620\ttotal: 1.49s\tremaining: 93.3ms\n",
            "941:\tlearn: 1417.4670040\ttotal: 1.49s\tremaining: 91.7ms\n",
            "942:\tlearn: 1417.3760279\ttotal: 1.49s\tremaining: 90.1ms\n",
            "943:\tlearn: 1416.9267376\ttotal: 1.49s\tremaining: 88.5ms\n",
            "944:\tlearn: 1416.5505930\ttotal: 1.49s\tremaining: 86.9ms\n",
            "945:\tlearn: 1416.1936115\ttotal: 1.5s\tremaining: 85.7ms\n",
            "946:\tlearn: 1416.1115599\ttotal: 1.5s\tremaining: 84.1ms\n",
            "947:\tlearn: 1415.2080120\ttotal: 1.5s\tremaining: 82.5ms\n",
            "948:\tlearn: 1414.8647845\ttotal: 1.5s\tremaining: 80.8ms\n",
            "949:\tlearn: 1414.4300006\ttotal: 1.5s\tremaining: 79.2ms\n",
            "950:\tlearn: 1413.9990471\ttotal: 1.51s\tremaining: 77.6ms\n",
            "951:\tlearn: 1413.5043901\ttotal: 1.51s\tremaining: 76ms\n",
            "952:\tlearn: 1413.1756953\ttotal: 1.51s\tremaining: 74.4ms\n",
            "953:\tlearn: 1412.8904657\ttotal: 1.51s\tremaining: 72.8ms\n",
            "954:\tlearn: 1412.6445377\ttotal: 1.51s\tremaining: 71.2ms\n",
            "955:\tlearn: 1412.6417853\ttotal: 1.51s\tremaining: 69.6ms\n",
            "956:\tlearn: 1412.6201514\ttotal: 1.51s\tremaining: 68ms\n",
            "957:\tlearn: 1412.2696695\ttotal: 1.51s\tremaining: 66.4ms\n",
            "958:\tlearn: 1412.0472322\ttotal: 1.52s\tremaining: 64.8ms\n",
            "959:\tlearn: 1411.8732485\ttotal: 1.52s\tremaining: 63.2ms\n",
            "960:\tlearn: 1411.4802503\ttotal: 1.52s\tremaining: 61.7ms\n",
            "961:\tlearn: 1411.0777917\ttotal: 1.52s\tremaining: 60.1ms\n",
            "962:\tlearn: 1410.6046366\ttotal: 1.52s\tremaining: 58.5ms\n",
            "963:\tlearn: 1410.1885444\ttotal: 1.52s\tremaining: 56.9ms\n",
            "964:\tlearn: 1409.8607182\ttotal: 1.52s\tremaining: 55.3ms\n",
            "965:\tlearn: 1409.3551953\ttotal: 1.53s\tremaining: 53.7ms\n",
            "966:\tlearn: 1409.1930304\ttotal: 1.53s\tremaining: 52.2ms\n",
            "967:\tlearn: 1408.7031163\ttotal: 1.53s\tremaining: 50.6ms\n",
            "968:\tlearn: 1408.6134582\ttotal: 1.53s\tremaining: 49ms\n",
            "969:\tlearn: 1408.2845765\ttotal: 1.53s\tremaining: 47.4ms\n",
            "970:\tlearn: 1407.9471053\ttotal: 1.53s\tremaining: 45.8ms\n",
            "971:\tlearn: 1407.9446839\ttotal: 1.53s\tremaining: 44.2ms\n",
            "972:\tlearn: 1407.7538686\ttotal: 1.54s\tremaining: 42.6ms\n",
            "973:\tlearn: 1407.5390575\ttotal: 1.54s\tremaining: 41.1ms\n",
            "974:\tlearn: 1407.3172501\ttotal: 1.54s\tremaining: 39.5ms\n",
            "975:\tlearn: 1406.9542261\ttotal: 1.54s\tremaining: 37.9ms\n",
            "976:\tlearn: 1406.6906908\ttotal: 1.54s\tremaining: 36.3ms\n",
            "977:\tlearn: 1406.5284250\ttotal: 1.54s\tremaining: 34.7ms\n",
            "978:\tlearn: 1406.3022867\ttotal: 1.54s\tremaining: 33.2ms\n",
            "979:\tlearn: 1405.9187172\ttotal: 1.55s\tremaining: 31.6ms\n",
            "980:\tlearn: 1405.2746908\ttotal: 1.55s\tremaining: 30ms\n",
            "981:\tlearn: 1405.0945060\ttotal: 1.55s\tremaining: 28.4ms\n",
            "982:\tlearn: 1404.6519871\ttotal: 1.55s\tremaining: 26.8ms\n",
            "983:\tlearn: 1404.2592571\ttotal: 1.55s\tremaining: 25.3ms\n",
            "984:\tlearn: 1404.0541623\ttotal: 1.55s\tremaining: 23.7ms\n",
            "985:\tlearn: 1403.6960618\ttotal: 1.56s\tremaining: 22.1ms\n",
            "986:\tlearn: 1403.4109863\ttotal: 1.56s\tremaining: 20.5ms\n",
            "987:\tlearn: 1403.1374825\ttotal: 1.56s\tremaining: 18.9ms\n",
            "988:\tlearn: 1402.6220507\ttotal: 1.56s\tremaining: 17.4ms\n",
            "989:\tlearn: 1402.4110799\ttotal: 1.56s\tremaining: 15.8ms\n",
            "990:\tlearn: 1402.1670265\ttotal: 1.56s\tremaining: 14.2ms\n",
            "991:\tlearn: 1402.0511266\ttotal: 1.56s\tremaining: 12.6ms\n",
            "992:\tlearn: 1401.9432650\ttotal: 1.57s\tremaining: 11ms\n",
            "993:\tlearn: 1401.7068627\ttotal: 1.57s\tremaining: 9.47ms\n",
            "994:\tlearn: 1401.2784169\ttotal: 1.57s\tremaining: 7.89ms\n",
            "995:\tlearn: 1401.1914028\ttotal: 1.57s\tremaining: 6.31ms\n",
            "996:\tlearn: 1400.5979870\ttotal: 1.57s\tremaining: 4.73ms\n",
            "997:\tlearn: 1399.8580133\ttotal: 1.57s\tremaining: 3.15ms\n",
            "998:\tlearn: 1399.6210936\ttotal: 1.57s\tremaining: 1.58ms\n",
            "999:\tlearn: 1399.3300415\ttotal: 1.58s\tremaining: 0us\n"
          ]
        },
        {
          "output_type": "execute_result",
          "data": {
            "text/plain": [
              "<catboost.core.CatBoostRegressor at 0x7fdd2ab48bd0>"
            ]
          },
          "metadata": {},
          "execution_count": 83
        }
      ]
    },
    {
      "cell_type": "code",
      "source": [
        "cat_pred=cat.predict(X_test)"
      ],
      "metadata": {
        "id": "6bI2iihaMtXt"
      },
      "execution_count": 84,
      "outputs": []
    },
    {
      "cell_type": "code",
      "source": [
        "r2_score(y_test,cat_pred)"
      ],
      "metadata": {
        "colab": {
          "base_uri": "https://localhost:8080/"
        },
        "id": "5RcRuePzM0GL",
        "outputId": "c0ae58d4-f880-4c75-e354-349f3840df72"
      },
      "execution_count": 85,
      "outputs": [
        {
          "output_type": "execute_result",
          "data": {
            "text/plain": [
              "0.8273858089678572"
            ]
          },
          "metadata": {},
          "execution_count": 85
        }
      ]
    },
    {
      "cell_type": "code",
      "source": [
        "!pip install lightgbm"
      ],
      "metadata": {
        "colab": {
          "base_uri": "https://localhost:8080/"
        },
        "id": "klXXvQeaM11L",
        "outputId": "55ffc737-ecee-403c-8bac-a3a5c2bc37bf"
      },
      "execution_count": 86,
      "outputs": [
        {
          "output_type": "stream",
          "name": "stdout",
          "text": [
            "Looking in indexes: https://pypi.org/simple, https://us-python.pkg.dev/colab-wheels/public/simple/\n",
            "Requirement already satisfied: lightgbm in /usr/local/lib/python3.7/dist-packages (2.2.3)\n",
            "Requirement already satisfied: scikit-learn in /usr/local/lib/python3.7/dist-packages (from lightgbm) (1.0.2)\n",
            "Requirement already satisfied: scipy in /usr/local/lib/python3.7/dist-packages (from lightgbm) (1.7.3)\n",
            "Requirement already satisfied: numpy in /usr/local/lib/python3.7/dist-packages (from lightgbm) (1.21.6)\n",
            "Requirement already satisfied: joblib>=0.11 in /usr/local/lib/python3.7/dist-packages (from scikit-learn->lightgbm) (1.1.0)\n",
            "Requirement already satisfied: threadpoolctl>=2.0.0 in /usr/local/lib/python3.7/dist-packages (from scikit-learn->lightgbm) (3.1.0)\n"
          ]
        }
      ]
    },
    {
      "cell_type": "code",
      "source": [
        "from lightgbm import LGBMRegressor\n",
        "\n",
        "lgb_model = LGBMRegressor()\n",
        "lgb_model.fit(X_train,y_train)"
      ],
      "metadata": {
        "colab": {
          "base_uri": "https://localhost:8080/"
        },
        "id": "2DVZ_C-TM4Fv",
        "outputId": "132ddeef-9583-48ed-c98d-e44659939359"
      },
      "execution_count": 87,
      "outputs": [
        {
          "output_type": "execute_result",
          "data": {
            "text/plain": [
              "LGBMRegressor()"
            ]
          },
          "metadata": {},
          "execution_count": 87
        }
      ]
    },
    {
      "cell_type": "code",
      "source": [
        "lgb_pred=lgb_model.predict(X_test)\n",
        "r2_score(y_test,lgb_pred)"
      ],
      "metadata": {
        "colab": {
          "base_uri": "https://localhost:8080/"
        },
        "id": "PB95b98GM-5r",
        "outputId": "01e3cfba-895e-4b18-d3f5-7b1175633bc2"
      },
      "execution_count": 88,
      "outputs": [
        {
          "output_type": "execute_result",
          "data": {
            "text/plain": [
              "0.8030064936005559"
            ]
          },
          "metadata": {},
          "execution_count": 88
        }
      ]
    },
    {
      "cell_type": "code",
      "source": [
        "\n",
        "!pip install xgboost"
      ],
      "metadata": {
        "colab": {
          "base_uri": "https://localhost:8080/"
        },
        "id": "8730B-OMNBMM",
        "outputId": "c8496498-cf26-4012-c45f-e92f2390d9db"
      },
      "execution_count": 89,
      "outputs": [
        {
          "output_type": "stream",
          "name": "stdout",
          "text": [
            "Looking in indexes: https://pypi.org/simple, https://us-python.pkg.dev/colab-wheels/public/simple/\n",
            "Requirement already satisfied: xgboost in /usr/local/lib/python3.7/dist-packages (0.90)\n",
            "Requirement already satisfied: scipy in /usr/local/lib/python3.7/dist-packages (from xgboost) (1.7.3)\n",
            "Requirement already satisfied: numpy in /usr/local/lib/python3.7/dist-packages (from xgboost) (1.21.6)\n"
          ]
        }
      ]
    },
    {
      "cell_type": "code",
      "source": [
        "import xgboost as xgb\n",
        "xgb_model=xgb.XGBRegressor()\n",
        "xgb_model.fit(X_train,y_train)\n",
        "xgb_pred=xgb_model.predict(X_test)\n",
        "r2_score(y_test,xgb_pred)"
      ],
      "metadata": {
        "colab": {
          "base_uri": "https://localhost:8080/"
        },
        "id": "KyJ_EWcUNDJD",
        "outputId": "aee99368-4be0-4c9e-be6a-e305825b608b"
      },
      "execution_count": 90,
      "outputs": [
        {
          "output_type": "stream",
          "name": "stdout",
          "text": [
            "[15:53:42] WARNING: /workspace/src/objective/regression_obj.cu:152: reg:linear is now deprecated in favor of reg:squarederror.\n"
          ]
        },
        {
          "output_type": "execute_result",
          "data": {
            "text/plain": [
              "0.7360850618843358"
            ]
          },
          "metadata": {},
          "execution_count": 90
        }
      ]
    },
    {
      "cell_type": "code",
      "source": [
        "df.to_csv('deploy_df')"
      ],
      "metadata": {
        "id": "3SXAIu4GNFM1"
      },
      "execution_count": 91,
      "outputs": []
    },
    {
      "cell_type": "code",
      "source": [
        "#Use pickle to save our model so that we can use it later\n",
        "\n",
        "import pickle \n",
        "# Saving model to disk\n",
        "pickle.dump(CAT_Model, open('model.pkl','wb'))\n",
        "model=pickle.load(open('model.pkl','rb'))"
      ],
      "metadata": {
        "id": "GiIS2VMNNNc1"
      },
      "execution_count": null,
      "outputs": []
    }
  ]
}